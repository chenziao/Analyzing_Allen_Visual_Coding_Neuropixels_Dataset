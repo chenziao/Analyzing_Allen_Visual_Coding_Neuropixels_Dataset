{
 "cells": [
  {
   "cell_type": "code",
   "execution_count": 1,
   "id": "6a1bdabc",
   "metadata": {},
   "outputs": [],
   "source": [
    "import numpy as np\n",
    "from pathlib import Path\n",
    "from allensdk.core.reference_space_cache import ReferenceSpaceCache\n",
    "\n",
    "cache_dir = Path(\"../reference_space_cache\")\n",
    "\n",
    "# Parameters\n",
    "VOXEL = 25   # µm (use 10, 25, 50...)\n",
    "\n",
    "# Load CCF annotation and structure tree\n",
    "# Manifest will be cached locally in this directory\n",
    "rsc = ReferenceSpaceCache(resolution=VOXEL,\n",
    "                          reference_space_key=\"annotation/ccf_2017\",\n",
    "                          manifest=str(cache_dir / \"manifest.json\"))\n",
    "\n",
    "annot, meta = rsc.get_annotation_volume()\n",
    "tree = rsc.get_structure_tree()"
   ]
  },
  {
   "cell_type": "code",
   "execution_count": 2,
   "id": "31ab8367",
   "metadata": {},
   "outputs": [
    {
     "name": "stdout",
     "output_type": "stream",
     "text": [
      "(528, 320, 456)\n"
     ]
    },
    {
     "data": {
      "text/plain": [
       "{'type': 'unsigned int',\n",
       " 'dimension': 3,\n",
       " 'space': 'left-posterior-superior',\n",
       " 'sizes': array([528, 320, 456]),\n",
       " 'space directions': array([[25.,  0.,  0.],\n",
       "        [ 0., 25.,  0.],\n",
       "        [ 0.,  0., 25.]]),\n",
       " 'kinds': ['domain', 'domain', 'domain'],\n",
       " 'endian': 'little',\n",
       " 'encoding': 'gzip',\n",
       " 'space origin': array([0., 0., 0.])}"
      ]
     },
     "execution_count": 2,
     "metadata": {},
     "output_type": "execute_result"
    }
   ],
   "source": [
    "# Note: The axes order in the meta data 'space' was wrong.\n",
    "print(annot.shape)\n",
    "dict(meta)"
   ]
  },
  {
   "cell_type": "code",
   "execution_count": 3,
   "id": "b654c38d",
   "metadata": {},
   "outputs": [],
   "source": [
    "# Corrected CCF axis order should be: (AP, DV, ML) (per Allen docs)\n",
    "# Directions: posterior, inferior, right\n",
    "AP_AXIS, DV_AXIS, ML_AXIS = 0, 1, 2"
   ]
  },
  {
   "cell_type": "code",
   "execution_count": 4,
   "id": "05040efa",
   "metadata": {},
   "outputs": [
    {
     "data": {
      "text/plain": [
       "{'acronym': 'VISp',\n",
       " 'graph_id': 1,\n",
       " 'graph_order': 185,\n",
       " 'id': 385,\n",
       " 'name': 'Primary visual area',\n",
       " 'structure_id_path': [997, 8, 567, 688, 695, 315, 669, 385],\n",
       " 'structure_set_ids': [396673091,\n",
       "  112905828,\n",
       "  688152357,\n",
       "  691663206,\n",
       "  687527945,\n",
       "  12,\n",
       "  184527634,\n",
       "  514166994,\n",
       "  112905813,\n",
       "  167587189,\n",
       "  114512891,\n",
       "  114512892],\n",
       " 'rgb_triplet': [8, 133, 140]}"
      ]
     },
     "execution_count": 4,
     "metadata": {},
     "output_type": "execute_result"
    }
   ],
   "source": [
    "# Get structure for VISp\n",
    "ecephys_structure = tree.get_structures_by_acronym(['VISp'])[0]\n",
    "ecephys_structure"
   ]
  },
  {
   "cell_type": "code",
   "execution_count": 5,
   "id": "20d2db61",
   "metadata": {},
   "outputs": [],
   "source": [
    "# Get structure for VISp layers\n",
    "layer_structures = tree.children([ecephys_structure['id']])[0]\n",
    "layer_structures = {s['acronym']: s for s in layer_structures}"
   ]
  },
  {
   "cell_type": "code",
   "execution_count": 6,
   "id": "cb151671",
   "metadata": {},
   "outputs": [],
   "source": [
    "# Get hemisphere annotation\n",
    "ml_size = annot.shape[ML_AXIS]\n",
    "ml_mid = ml_size // 2  # midline index\n",
    "\n",
    "hemisphere = 'left'  # 'left' or 'right'\n",
    "\n",
    "ml_slice = [slice(None)] * 3\n",
    "ml_slice[ML_AXIS] = slice(0, ml_mid) if hemisphere == 'left' else slice(ml_mid, ml_size)\n",
    "hemi_annot = annot[tuple(ml_slice)]"
   ]
  },
  {
   "cell_type": "code",
   "execution_count": 7,
   "id": "8cd4d992",
   "metadata": {},
   "outputs": [
    {
     "name": "stdout",
     "output_type": "stream",
     "text": [
      "Left hemisphere (AP, DV, ML in rows; [min, max] in µm):\n",
      "\n",
      "VISp1:\n",
      "[[ 7675 10350]\n",
      " [  375  1950]\n",
      " [ 2050  4350]]\n",
      "\n",
      "VISp2/3:\n",
      "[[ 7700 10250]\n",
      " [  475  1950]\n",
      " [ 2125  4350]]\n",
      "\n",
      "VISp4:\n",
      "[[ 7700 10100]\n",
      " [  675  2000]\n",
      " [ 2250  4300]]\n",
      "\n",
      "VISp5:\n",
      "[[ 7725 10050]\n",
      " [  725  2150]\n",
      " [ 2325  4250]]\n",
      "\n",
      "VISp6a:\n",
      "[[7725 9875]\n",
      " [ 975 2275]\n",
      " [2475 4150]]\n",
      "\n",
      "VISp6b:\n",
      "[[7750 9600]\n",
      " [1125 2300]\n",
      " [2550 4100]]\n",
      "\n"
     ]
    }
   ],
   "source": [
    "# Loop over layers, compute DV range\n",
    "ranges = {}\n",
    "for acr, struct in layer_structures.items():\n",
    "    coords = np.argwhere(hemi_annot == struct['id'])  # (AP, DV, ML)\n",
    "    if coords.size == 0:\n",
    "        continue\n",
    "\n",
    "    ranges[acr]  = VOXEL * np.array([\n",
    "        [coords[:,AP_AXIS].min(), coords[:,AP_AXIS].max()],\n",
    "        [coords[:,DV_AXIS].min(), coords[:,DV_AXIS].max()],\n",
    "        [coords[:,ML_AXIS].min(), coords[:,ML_AXIS].max()]\n",
    "    ])\n",
    "\n",
    "\n",
    "# Print results\n",
    "print(f\"{hemisphere.capitalize()} hemisphere (AP, DV, ML in rows; [min, max] in µm):\\n\")\n",
    "for acr, mat in ranges.items():\n",
    "    print(f\"{acr}:\\n{mat}\\n\")"
   ]
  },
  {
   "cell_type": "code",
   "execution_count": null,
   "id": "90cc3f0b",
   "metadata": {},
   "outputs": [],
   "source": [
    "import matplotlib.pyplot as plt\n",
    "\n",
    "import add_path\n",
    "from toolkit.plots.utils import set_equal_3d_scaling\n",
    "\n",
    "%matplotlib qt\n",
    "\n",
    "\n",
    "scatter_density = 5000.  # voxels per mm^3\n",
    "\n",
    "# create colors dictionary using colormap\n",
    "cmap = plt.get_cmap('rainbow_r', len(layer_structures))\n",
    "colors = {acr: cmap(i) for i, acr in enumerate(layer_structures)}\n",
    "\n",
    "_, ax = plt.subplots(1, 1, figsize=(10, 8), subplot_kw=dict(projection='3d'))\n",
    "\n",
    "for acr, struct in layer_structures.items():\n",
    "    mask = (hemi_annot == struct['id'])\n",
    "    coords = np.argwhere(mask)\n",
    "    if coords.size == 0:\n",
    "        continue\n",
    "\n",
    "    # Convert voxel indices to microns\n",
    "    AP = coords[:, AP_AXIS] * VOXEL\n",
    "    DV = coords[:, DV_AXIS] * VOXEL\n",
    "    ML = coords[:, ML_AXIS] * VOXEL\n",
    "    # Plot only a subsample for speed\n",
    "    n_voxels = coords.shape[0]\n",
    "    n_samples = min(int(n_voxels * (VOXEL / 1000.) ** 3 * scatter_density), n_voxels)\n",
    "    idx = np.random.choice(n_voxels, size=n_samples, replace=False)\n",
    "    ax.plot(ML[idx], AP[idx], DV[idx], '.', color=colors[acr], markersize=2, label=acr, alpha=0.5)\n",
    "    # ax.plot(ML, AP, DV, '.', color=colors[acr], markersize=2, label=acr, alpha=0.5)\n",
    "\n",
    "ax.set_xlabel('ML (µm)')\n",
    "ax.set_ylabel('AP (µm)')\n",
    "ax.set_zlabel('DV (µm)')\n",
    "ax.legend()\n",
    "ax.set_title(f'{hemisphere.capitalize()} VISp Cortex')\n",
    "\n",
    "data_lim = set_equal_3d_scaling(ax)\n",
    "\n",
    "ax.set_ylim3d(data_lim[1][::-1])  # flip AP\n",
    "ax.set_zlim3d(data_lim[2][::-1])  # flip DV\n",
    "\n",
    "plt.show()\n"
   ]
  },
  {
   "cell_type": "code",
   "execution_count": 9,
   "id": "d772293e",
   "metadata": {},
   "outputs": [],
   "source": [
    "import pandas as pd\n",
    "\n",
    "channels_coords = pd.read_csv('../temp/channels_coords.csv', index_col='id')"
   ]
  },
  {
   "cell_type": "code",
   "execution_count": 10,
   "id": "4818cc97",
   "metadata": {},
   "outputs": [],
   "source": [
    "def world_um_to_idx(x):\n",
    "    \"\"\"\n",
    "    Convert world coordinates (µm) to nearest voxel indices (AP, DV, ML).\n",
    "    Clips to valid bounds.\n",
    "    \"\"\"\n",
    "    idx = np.round(np.asarray(x) / VOXEL).astype(int)\n",
    "    idx = np.clip(idx, 0, np.array(annot.shape) - 1)\n",
    "    return idx"
   ]
  },
  {
   "cell_type": "code",
   "execution_count": 11,
   "id": "2308fc5d",
   "metadata": {},
   "outputs": [
    {
     "data": {
      "text/plain": [
       "(24, 3)"
      ]
     },
     "execution_count": 11,
     "metadata": {},
     "output_type": "execute_result"
    }
   ],
   "source": [
    "channels_coords.shape"
   ]
  },
  {
   "cell_type": "code",
   "execution_count": 12,
   "id": "e14c05c1",
   "metadata": {},
   "outputs": [],
   "source": [
    "ccf_idx = world_um_to_idx(channels_coords.values).T\n",
    "structure_array = tree.get_structures_by_id(annot[tuple(ccf_idx)])\n",
    "structure_acronym = [s['acronym'] if s else '' for s in structure_array]"
   ]
  },
  {
   "cell_type": "code",
   "execution_count": 13,
   "id": "b5b7f923",
   "metadata": {},
   "outputs": [
    {
     "data": {
      "text/plain": [
       "['or',\n",
       " 'VISp6b',\n",
       " 'VISp6a',\n",
       " 'VISp6a',\n",
       " 'VISp6a',\n",
       " 'VISp6a',\n",
       " 'VISp5',\n",
       " 'VISp5',\n",
       " 'VISp5',\n",
       " 'VISp5',\n",
       " 'VISp5',\n",
       " 'VISp4',\n",
       " 'VISp4',\n",
       " 'VISp4',\n",
       " 'VISp2/3',\n",
       " 'VISp2/3',\n",
       " 'VISp2/3',\n",
       " 'VISp2/3',\n",
       " 'VISp2/3',\n",
       " 'VISp2/3',\n",
       " 'VISp1',\n",
       " 'VISp1',\n",
       " 'VISp1',\n",
       " '']"
      ]
     },
     "execution_count": 13,
     "metadata": {},
     "output_type": "execute_result"
    }
   ],
   "source": [
    "structure_acronym"
   ]
  },
  {
   "cell_type": "code",
   "execution_count": null,
   "id": "261286b5",
   "metadata": {},
   "outputs": [],
   "source": []
  }
 ],
 "metadata": {
  "kernelspec": {
   "display_name": "neuro",
   "language": "python",
   "name": "python3"
  },
  "language_info": {
   "codemirror_mode": {
    "name": "ipython",
    "version": 3
   },
   "file_extension": ".py",
   "mimetype": "text/x-python",
   "name": "python",
   "nbconvert_exporter": "python",
   "pygments_lexer": "ipython3",
   "version": "3.8.16"
  }
 },
 "nbformat": 4,
 "nbformat_minor": 5
}
