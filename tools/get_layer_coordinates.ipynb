{
 "cells": [
  {
   "cell_type": "code",
   "execution_count": 1,
   "id": "6a1bdabc",
   "metadata": {},
   "outputs": [],
   "source": [
    "import numpy as np\n",
    "from pathlib import Path\n",
    "from allensdk.core.reference_space_cache import ReferenceSpaceCache\n",
    "\n",
    "cache_dir = Path(\"../reference_space_cache\")\n",
    "\n",
    "# --- Parameters ---\n",
    "VOXEL = 50   # µm (use 10, 25, 50...)\n",
    "\n",
    "# --- Load CCF annotation and structure tree ---\n",
    "# Manifest will be cached locally in this directory\n",
    "rsc = ReferenceSpaceCache(resolution=VOXEL,\n",
    "                          reference_space_key=\"annotation/ccf_2017\",\n",
    "                          manifest=str(cache_dir / \"manifest.json\"))\n",
    "\n",
    "annot, meta = rsc.get_annotation_volume()\n",
    "tree = rsc.get_structure_tree()"
   ]
  },
  {
   "cell_type": "code",
   "execution_count": 2,
   "id": "31ab8367",
   "metadata": {},
   "outputs": [
    {
     "name": "stdout",
     "output_type": "stream",
     "text": [
      "(264, 160, 228)\n"
     ]
    },
    {
     "data": {
      "text/plain": [
       "{'type': 'unsigned int',\n",
       " 'dimension': 3,\n",
       " 'space': 'left-posterior-superior',\n",
       " 'sizes': array([264, 160, 228]),\n",
       " 'space directions': array([[50.,  0.,  0.],\n",
       "        [ 0., 50.,  0.],\n",
       "        [ 0.,  0., 50.]]),\n",
       " 'kinds': ['domain', 'domain', 'domain'],\n",
       " 'endian': 'little',\n",
       " 'encoding': 'gzip',\n",
       " 'space origin': array([0., 0., 0.])}"
      ]
     },
     "execution_count": 2,
     "metadata": {},
     "output_type": "execute_result"
    }
   ],
   "source": [
    "# Note: The axes order in the meta data 'space' was wrong.\n",
    "print(annot.shape)\n",
    "dict(meta)"
   ]
  },
  {
   "cell_type": "code",
   "execution_count": 3,
   "id": "b654c38d",
   "metadata": {},
   "outputs": [],
   "source": [
    "# Corrected CCF axis order should be: (AP, DV, ML) (per Allen docs)\n",
    "# Directions: posterior, inferior, right\n",
    "AP_AXIS, DV_AXIS, ML_AXIS = 0, 1, 2"
   ]
  },
  {
   "cell_type": "code",
   "execution_count": 4,
   "id": "20d2db61",
   "metadata": {},
   "outputs": [],
   "source": [
    "# --- Get structure IDs for VISp layers ---\n",
    "# Options: 'VISp1', 'VISp2/3', 'VISp4', 'VISp5', 'VISp6a', 'VISp6b'\n",
    "layer_acronyms = ['VISp1', 'VISp2/3', 'VISp4', 'VISp5', 'VISp6a', 'VISp6b']\n",
    "structures = tree.get_structures_by_acronym(layer_acronyms)\n",
    "id_map = {s['acronym']: s['id'] for s in structures}"
   ]
  },
  {
   "cell_type": "code",
   "execution_count": 5,
   "id": "cb151671",
   "metadata": {},
   "outputs": [],
   "source": [
    "ml_size = annot.shape[ML_AXIS]\n",
    "ml_mid = ml_size // 2  # midline index\n",
    "\n",
    "hemisphere = 'left'  # 'left' or 'right'\n",
    "\n",
    "ml_slice = [slice(None)] * 3\n",
    "ml_slice[ML_AXIS] = slice(0, ml_mid) if hemisphere == 'left' else slice(ml_mid, ml_size)\n",
    "hemi_annot = annot[tuple(ml_slice)]"
   ]
  },
  {
   "cell_type": "code",
   "execution_count": 6,
   "id": "8cd4d992",
   "metadata": {},
   "outputs": [
    {
     "name": "stdout",
     "output_type": "stream",
     "text": [
      "Left hemisphere (AP, DV, ML in rows; [min, max] in µm):\n",
      "\n",
      "VISp1:\n",
      "[[ 7700 10350]\n",
      " [  400  1950]\n",
      " [ 2050  4350]]\n",
      "\n",
      "VISp2/3:\n",
      "[[ 7700 10250]\n",
      " [  500  1950]\n",
      " [ 2150  4300]]\n",
      "\n",
      "VISp4:\n",
      "[[ 7750 10100]\n",
      " [  700  2000]\n",
      " [ 2250  4250]]\n",
      "\n",
      "VISp5:\n",
      "[[ 7750 10050]\n",
      " [  750  2100]\n",
      " [ 2350  4250]]\n",
      "\n",
      "VISp6a:\n",
      "[[7750 9850]\n",
      " [1000 2250]\n",
      " [2500 4100]]\n",
      "\n",
      "VISp6b:\n",
      "[[7750 9600]\n",
      " [1150 2300]\n",
      " [2600 4100]]\n",
      "\n"
     ]
    }
   ],
   "source": [
    "# --- Loop over layers, compute DV range ---\n",
    "ranges = {}\n",
    "for acr, sid in id_map.items():\n",
    "    coords = np.argwhere(hemi_annot == sid)  # (AP, DV, ML)\n",
    "    if coords.size == 0:\n",
    "        continue\n",
    "\n",
    "    ranges[acr]  = VOXEL * np.array([\n",
    "        [coords[:,AP_AXIS].min(), coords[:,AP_AXIS].max()],\n",
    "        [coords[:,DV_AXIS].min(), coords[:,DV_AXIS].max()],\n",
    "        [coords[:,ML_AXIS].min(), coords[:,ML_AXIS].max()]\n",
    "    ])\n",
    "\n",
    "\n",
    "# Print results\n",
    "print(f\"{hemisphere.capitalize()} hemisphere (AP, DV, ML in rows; [min, max] in µm):\\n\")\n",
    "for acr, mat in ranges.items():\n",
    "    print(f\"{acr}:\\n{mat}\\n\")"
   ]
  },
  {
   "cell_type": "code",
   "execution_count": 7,
   "id": "fe100e24",
   "metadata": {},
   "outputs": [],
   "source": [
    "def set_equal_3d_scaling(ax, x, y, z):\n",
    "    \"\"\"Set equal scaling for 3D plot\"\"\"\n",
    "    # Get current ranges\n",
    "    lim = np.array([[np.min(x), np.max(x)],\n",
    "                    [np.min(y), np.max(y)],\n",
    "                    [np.min(z), np.max(z)]])\n",
    "\n",
    "    # Calculate centers\n",
    "    center = np.mean(lim, axis=1, keepdims=True)\n",
    "\n",
    "    # Find the cubic range\n",
    "    half_range = np.max(lim[:, 1] - lim[:, 0]) / 2\n",
    "    cubic_lim = center + half_range * np.array([-1, 1])\n",
    "\n",
    "    # Set equal ranges around centers\n",
    "    ax.set_xlim3d(cubic_lim[0])\n",
    "    ax.set_ylim3d(cubic_lim[1])\n",
    "    ax.set_zlim3d(cubic_lim[2])\n",
    "    ax.set_box_aspect([1, 1, 1])\n",
    "    return cubic_lim"
   ]
  },
  {
   "cell_type": "code",
   "execution_count": 8,
   "id": "90cc3f0b",
   "metadata": {},
   "outputs": [],
   "source": [
    "import matplotlib.pyplot as plt\n",
    "\n",
    "%matplotlib qt\n",
    "\n",
    "\n",
    "colors = {\n",
    "    'VISp1': 'cyan',\n",
    "    'VISp2/3': 'blue',\n",
    "    'VISp4': 'green',\n",
    "    'VISp5': 'orange',\n",
    "    'VISp6a': 'red',\n",
    "    'VISp6b': 'purple'\n",
    "}\n",
    "\n",
    "scatter_density = 0.2\n",
    "\n",
    "fig = plt.figure(figsize=(10, 8))\n",
    "ax = fig.add_subplot(111, projection='3d')\n",
    "\n",
    "for acr, sid in id_map.items():\n",
    "    mask = (hemi_annot == sid)\n",
    "    coords = np.argwhere(mask)\n",
    "    if coords.size == 0:\n",
    "        continue\n",
    "\n",
    "    # Convert voxel indices to microns\n",
    "    AP = coords[:, AP_AXIS] * VOXEL\n",
    "    DV = coords[:, DV_AXIS] * VOXEL\n",
    "    ML = coords[:, ML_AXIS] * VOXEL\n",
    "    # Plot only a subsample for speed\n",
    "    n_voxels = coords.shape[0]\n",
    "    idx = np.random.choice(n_voxels, size=int(n_voxels * scatter_density), replace=False)\n",
    "    ax.plot(ML[idx], AP[idx], DV[idx], '.', color=colors[acr], markersize=2, label=acr, alpha=0.5)\n",
    "    # ax.plot(ML, AP, DV, '.', color=colors[acr], markersize=2, label=acr, alpha=0.5)\n",
    "\n",
    "ax.set_xlabel('ML (µm)')\n",
    "ax.set_ylabel('AP (µm)')\n",
    "ax.set_zlabel('DV (µm)')\n",
    "ax.legend()\n",
    "ax.set_title(f'{hemisphere.capitalize()} VISp Cortex')\n",
    "\n",
    "data_lim = ax.get_xlim3d(), ax.get_ylim3d(), ax.get_zlim3d()\n",
    "data_lim = set_equal_3d_scaling(ax, *data_lim)\n",
    "\n",
    "ax.set_ylim3d(data_lim[1][::-1])  # flip AP\n",
    "ax.set_zlim3d(data_lim[2][::-1])  # flip DV\n",
    "\n",
    "plt.show()\n"
   ]
  },
  {
   "cell_type": "code",
   "execution_count": null,
   "id": "261286b5",
   "metadata": {},
   "outputs": [],
   "source": []
  }
 ],
 "metadata": {
  "kernelspec": {
   "display_name": "neuro",
   "language": "python",
   "name": "python3"
  },
  "language_info": {
   "codemirror_mode": {
    "name": "ipython",
    "version": 3
   },
   "file_extension": ".py",
   "mimetype": "text/x-python",
   "name": "python",
   "nbconvert_exporter": "python",
   "pygments_lexer": "ipython3",
   "version": "3.8.16"
  }
 },
 "nbformat": 4,
 "nbformat_minor": 5
}
