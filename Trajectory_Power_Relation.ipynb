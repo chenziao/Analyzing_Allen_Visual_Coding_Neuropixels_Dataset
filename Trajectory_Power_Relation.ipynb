{
 "cells": [
  {
   "cell_type": "code",
   "execution_count": null,
   "metadata": {},
   "outputs": [],
   "source": [
    "import os\n",
    "import json\n",
    "import numpy as np\n",
    "import pandas as pd\n",
    "import xarray as xr\n",
    "import scipy as sp\n",
    "import matplotlib.pyplot as plt\n",
    "\n",
    "from allensdk.brain_observatory.ecephys.ecephys_project_cache import EcephysProjectCache\n",
    "from allensdk.brain_observatory.ecephys.visualization import plot_spike_counts\n",
    "\n",
    "from utils import *\n",
    "from process import *\n",
    "from analysis import *\n",
    "from plots import *\n",
    "\n",
    "if run_from_ipython:\n",
    "    %matplotlib inline\n",
    "\n",
    "with open('config.json') as f:\n",
    "    config = json.load(f)"
   ]
  },
  {
   "cell_type": "code",
   "execution_count": null,
   "metadata": {},
   "outputs": [],
   "source": [
    "# Cache directory path, it determines where downloaded data will be stored\n",
    "manifest_path = os.path.join(config['cache_dir'], \"manifest.json\")\n",
    "cache = EcephysProjectCache.from_warehouse(manifest=manifest_path)\n",
    "\n",
    "# Whether to manually enter parameters for analysis\n",
    "enter_parameters = config['enter_parameters']\n",
    "whether_redo = redo_condition(enter_parameters)"
   ]
  },
  {
   "cell_type": "markdown",
   "metadata": {},
   "source": [
    "## Get session and probe"
   ]
  },
  {
   "cell_type": "code",
   "execution_count": null,
   "metadata": {},
   "outputs": [],
   "source": [
    "session_id = config['analysis_object']['session_id']\n",
    "ecephys_structure_acronym = config['analysis_object']['ecephys_structure_acronym']\n",
    "session = cache.get_session_data(session_id)"
   ]
  },
  {
   "cell_type": "code",
   "execution_count": null,
   "metadata": {},
   "outputs": [
    {
     "name": "stdout",
     "output_type": "stream",
     "text": [
      "{\n",
      "    \"session_id\": 721123822,\n",
      "    \"ecephys_structure_acronym\": \"VISp\",\n",
      "    \"probe_id\": 760213145,\n",
      "    \"center_channel_id\": 850245983,\n",
      "    \"center_unit_channel_id\": 850245985,\n",
      "    \"fs\": 1249.99999145772,\n",
      "    \"parameters\": {\n",
      "        \"spike_bin_width\": 0.03,\n",
      "        \"fr_smooth_sigma\": 0.02,\n",
      "        \"fr_normalize_quantile\": 0.2,\n",
      "        \"fr_normalization_scale\": \"range\",\n",
      "        \"soft_normalize_cut\": 26.666666666666668,\n",
      "        \"stimulus_rise_duration\": [\n",
      "            -0.05,\n",
      "            0.33\n",
      "        ],\n",
      "        \"display_PCs\": [\n",
      "            1,\n",
      "            2\n",
      "        ],\n",
      "        \"number_top_PCs\": 3,\n",
      "        \"select_temporal_frequency_index\": [\n",
      "            0,\n",
      "            1,\n",
      "            2,\n",
      "            3\n",
      "        ],\n",
      "        \"stimulus_stable_duration\": [\n",
      "            0.3,\n",
      "            2.001770000000306\n",
      "        ],\n",
      "        \"number_orientation_clusters\": 3,\n",
      "        \"two_step_clustering\": true,\n",
      "        \"filter_extend_time\": 0.2,\n",
      "        \"filter_freq_band\": [\n",
      "            20.0,\n",
      "            40.0\n",
      "        ],\n",
      "        \"stimulus_whole_duration\": [\n",
      "            -0.1,\n",
      "            2.001770000000306\n",
      "        ],\n",
      "        \"display_temporal_frequency_index\": [\n",
      "            0,\n",
      "            1\n",
      "        ],\n",
      "        \"drifting_gratings_knee\": true,\n",
      "        \"static_gratings_knee\": false,\n",
      "        \"natural_scenes_knee\": false,\n",
      "        \"natural_movie1_knee\": true,\n",
      "        \"scaleogram_channels\": [\n",
      "            5\n",
      "        ],\n",
      "        \"power_freq_band\": [\n",
      "            20.0,\n",
      "            40.0\n",
      "        ]\n",
      "    },\n",
      "    \"has_ccf\": true,\n",
      "    \"unit_has_ccf\": true,\n",
      "    \"channel_group_by_ccf\": true,\n",
      "    \"n_channel_groups\": 8\n",
      "}\n"
     ]
    }
   ],
   "source": [
    "output_dir = config['output_dir']\n",
    "session_dir = os.path.join(output_dir, f'session_{session_id:d}')\n",
    "info_file = os.path.join(output_dir, f'session_{session_id:d}_{ecephys_structure_acronym:s}.json')\n",
    "with open(info_file) as f:\n",
    "    info = json.load(f)\n",
    "print(json.dumps(info, indent=4))\n",
    "\n",
    "probe_id = info['probe_id']\n",
    "probe_dir = os.path.join(session_dir, f'probe_{probe_id:d}')\n",
    "parameters_dict = info['parameters']\n",
    "fig_disp = figure_display_function(config)"
   ]
  },
  {
   "cell_type": "markdown",
   "metadata": {},
   "source": [
    "## Load selected units in area of interest"
   ]
  },
  {
   "cell_type": "code",
   "execution_count": null,
   "metadata": {},
   "outputs": [
    {
     "name": "stdout",
     "output_type": "stream",
     "text": [
      "Number of units in VISp: 41\n"
     ]
    }
   ],
   "source": [
    "units_file = os.path.join(output_dir, f'session_{session_id:d}_{ecephys_structure_acronym:s}_units.csv')\n",
    "sel_units = pd.read_csv(units_file, index_col='unit_id')\n",
    "sel_units_id = sel_units.index\n",
    "print(f'Number of units in {ecephys_structure_acronym:s}: {len(sel_units):d}')"
   ]
  },
  {
   "cell_type": "code",
   "execution_count": null,
   "metadata": {},
   "outputs": [],
   "source": []
  },
  {
   "cell_type": "code",
   "execution_count": null,
   "metadata": {},
   "outputs": [],
   "source": []
  },
  {
   "cell_type": "code",
   "execution_count": null,
   "metadata": {},
   "outputs": [],
   "source": []
  }
 ],
 "metadata": {
  "language_info": {
   "name": "python"
  }
 },
 "nbformat": 4,
 "nbformat_minor": 2
}
