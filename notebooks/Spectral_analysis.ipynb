{
 "cells": [
  {
   "cell_type": "code",
   "execution_count": 1,
   "id": "a66cc4b3",
   "metadata": {},
   "outputs": [],
   "source": [
    "import json\n",
    "import numpy as np\n",
    "import pandas as pd\n",
    "from matplotlib import pyplot as plt\n",
    "\n",
    "import add_path\n",
    "from toolkit.pipeline.data_io import SessionDirectory\n",
    "from toolkit.allen_helpers.stimuli import *\n",
    "from toolkit.pipeline.signal import *\n",
    "\n",
    "\n",
    "pd.set_option('display.max_columns', None)\n",
    "\n",
    "with open('config.json') as f:\n",
    "    config = json.load(f)"
   ]
  },
  {
   "cell_type": "code",
   "execution_count": 2,
   "id": "eac36f0b",
   "metadata": {},
   "outputs": [],
   "source": [
    "from toolkit.utils.module import reload_module"
   ]
  },
  {
   "cell_type": "code",
   "execution_count": 3,
   "id": "110f953b",
   "metadata": {},
   "outputs": [],
   "source": [
    "# SessionDirectory = reload_module('toolkit.pipeline.data_io', 'SessionDirectory')"
   ]
  },
  {
   "cell_type": "markdown",
   "id": "a23912d1",
   "metadata": {},
   "source": [
    "## Get session and load data"
   ]
  },
  {
   "cell_type": "code",
   "execution_count": 4,
   "id": "4fb79a59",
   "metadata": {},
   "outputs": [
    {
     "name": "stderr",
     "output_type": "stream",
     "text": [
      "c:\\Users\\ziaochen\\.conda\\envs\\neuro2\\lib\\site-packages\\hdmf\\spec\\namespace.py:583: UserWarning: Ignoring the following cached namespace(s) because another version is already loaded:\n",
      "core - cached version: 2.2.2, loaded version: 2.7.0\n",
      "The loaded extension(s) may not be compatible with the cached extension(s) in the file. Please check the extension documentation and ignore this warning if these versions are compatible.\n",
      "  self.warn_for_ignored_namespaces(ignored_namespaces)\n"
     ]
    }
   ],
   "source": [
    "session_id = config['session_id']\n",
    "ecephys_structure_acronym = config['ecephys_structure_acronym']\n",
    "\n",
    "session_dir = SessionDirectory(session_id, ecephys_structure_acronym, cache_lfp=True)\n",
    "session = session_dir.session\n",
    "\n",
    "lfp_channels = session_dir.load_lfp_channels()\n",
    "probe_info = session_dir.load_probe_info()"
   ]
  },
  {
   "cell_type": "code",
   "execution_count": 5,
   "id": "e341e744",
   "metadata": {},
   "outputs": [
    {
     "name": "stderr",
     "output_type": "stream",
     "text": [
      "c:\\Users\\ziaochen\\.conda\\envs\\neuro2\\lib\\site-packages\\hdmf\\spec\\namespace.py:583: UserWarning: Ignoring the following cached namespace(s) because another version is already loaded:\n",
      "core - cached version: 2.2.2, loaded version: 2.7.0\n",
      "The loaded extension(s) may not be compatible with the cached extension(s) in the file. Please check the extension documentation and ignore this warning if these versions are compatible.\n",
      "  self.warn_for_ignored_namespaces(ignored_namespaces)\n",
      "c:\\Users\\ziaochen\\.conda\\envs\\neuro2\\lib\\site-packages\\hdmf\\spec\\namespace.py:583: UserWarning: Ignoring the following cached namespace(s) because another version is already loaded:\n",
      "core - cached version: 2.2.2, loaded version: 2.7.0\n",
      "The loaded extension(s) may not be compatible with the cached extension(s) in the file. Please check the extension documentation and ignore this warning if these versions are compatible.\n",
      "  self.warn_for_ignored_namespaces(ignored_namespaces)\n",
      "c:\\Users\\ziaochen\\.conda\\envs\\neuro2\\lib\\site-packages\\hdmf\\spec\\namespace.py:583: UserWarning: Ignoring the following cached namespace(s) because another version is already loaded:\n",
      "core - cached version: 2.2.2, loaded version: 2.7.0\n",
      "The loaded extension(s) may not be compatible with the cached extension(s) in the file. Please check the extension documentation and ignore this warning if these versions are compatible.\n",
      "  self.warn_for_ignored_namespaces(ignored_namespaces)\n",
      "c:\\Users\\ziaochen\\.conda\\envs\\neuro2\\lib\\site-packages\\hdmf\\spec\\namespace.py:583: UserWarning: Ignoring the following cached namespace(s) because another version is already loaded:\n",
      "core - cached version: 2.2.2, loaded version: 2.7.0\n",
      "The loaded extension(s) may not be compatible with the cached extension(s) in the file. Please check the extension documentation and ignore this warning if these versions are compatible.\n",
      "  self.warn_for_ignored_namespaces(ignored_namespaces)\n"
     ]
    }
   ],
   "source": [
    "group_width = 0\n",
    "\n",
    "lfp_groups, channel_groups = get_lfp_channel_groups(\n",
    "    session_dir, probe_info['central_channels'], width=group_width\n",
    ")"
   ]
  },
  {
   "cell_type": "markdown",
   "id": "ff68e8e0",
   "metadata": {},
   "source": [
    "## Analyze data"
   ]
  },
  {
   "cell_type": "code",
   "execution_count": 6,
   "id": "379e0a82",
   "metadata": {},
   "outputs": [
    {
     "name": "stderr",
     "output_type": "stream",
     "text": [
      "c:\\Users\\ziaochen\\.conda\\envs\\neuro2\\lib\\site-packages\\hdmf\\spec\\namespace.py:583: UserWarning: Ignoring the following cached namespace(s) because another version is already loaded:\n",
      "core - cached version: 2.2.2, loaded version: 2.7.0\n",
      "The loaded extension(s) may not be compatible with the cached extension(s) in the file. Please check the extension documentation and ignore this warning if these versions are compatible.\n",
      "  self.warn_for_ignored_namespaces(ignored_namespaces)\n"
     ]
    },
    {
     "data": {
      "text/plain": [
       "['spontaneous',\n",
       " 'gabors',\n",
       " 'flashes',\n",
       " 'drifting_gratings_contrast',\n",
       " 'natural_movie_one_more_repeats',\n",
       " 'natural_movie_one_shuffled',\n",
       " 'drifting_gratings_75_repeats',\n",
       " 'dot_motion']"
      ]
     },
     "execution_count": 6,
     "metadata": {},
     "output_type": "execute_result"
    }
   ],
   "source": [
    "stimulus_presentations = session.stimulus_presentations\n",
    "session.stimulus_names"
   ]
  },
  {
   "cell_type": "code",
   "execution_count": 7,
   "id": "805221d0",
   "metadata": {},
   "outputs": [],
   "source": [
    "session_type = session.session_type\n",
    "\n",
    "if session_type == 'brain_observatory_1.1':\n",
    "    stimulus_names = [\n",
    "        'drifting_gratings',\n",
    "        'natural_movie_one',\n",
    "        'natural_movie_three',\n",
    "        'static_gratings',\n",
    "        'natural_scenes',\n",
    "    ]\n",
    "elif session_type == 'functional_connectivity':\n",
    "    stimulus_names = [\n",
    "        'drifting_gratings_75_repeats',\n",
    "        'drifting_gratings_contrast',\n",
    "        'natural_movie_one_more_repeats',\n",
    "        'natural_movie_one_shuffled',\n",
    "    ]"
   ]
  },
  {
   "cell_type": "code",
   "execution_count": 43,
   "id": "ba8af367",
   "metadata": {},
   "outputs": [],
   "source": [
    "psd_tseg = 1.0\n",
    "psd_trials_das = {}\n",
    "psd_avg_das = {}\n",
    "\n",
    "plt_range = (0, 100.)\n",
    "sxx_plt_range = [2.0, 80.0]\n",
    "\n",
    "aperiodic_mode = 'knee'"
   ]
  },
  {
   "cell_type": "code",
   "execution_count": 9,
   "id": "ab194802",
   "metadata": {},
   "outputs": [],
   "source": [
    "stimulus_trials = {}"
   ]
  },
  {
   "cell_type": "code",
   "execution_count": 10,
   "id": "d490108a",
   "metadata": {},
   "outputs": [],
   "source": [
    "stim = stimulus_names[0]"
   ]
  },
  {
   "cell_type": "code",
   "execution_count": null,
   "id": "5b1f41c0",
   "metadata": {},
   "outputs": [],
   "source": [
    "stim_trials = get_stimulus_trials(stimulus_presentations, stimulus_name=stim)\n",
    "stimulus_trials[stim] = stim_trials\n",
    "\n",
    "aligned_lfp = align_trials(lfp_groups, stim_trials, window=(0., stim_trials.duration))"
   ]
  },
  {
   "cell_type": "code",
   "execution_count": 44,
   "id": "36b770d4",
   "metadata": {},
   "outputs": [],
   "source": [
    "psd_trials = trial_psd(aligned_lfp, tseg=psd_tseg)\n",
    "psd_avg = psd_trials.mean(dim='presentation_id')\n",
    "\n",
    "psd_trials_das[stim] = psd_trials\n",
    "psd_avg_das[stim] = psd_avg"
   ]
  },
  {
   "cell_type": "code",
   "execution_count": 45,
   "id": "3694297b",
   "metadata": {},
   "outputs": [],
   "source": [
    "# fooof_result, fig1, _ = plot_channel_psd(psd_avg, channel_id=group_id, freq_range=200., plt_range=plt_range, figsize=(5, 4),\n",
    "#                                             aperiodic_mode=aperiodic_mode, dB_threshold=3., max_n_peaks=10, plot=not savefig, plt_log=True)"
   ]
  },
  {
   "cell_type": "code",
   "execution_count": null,
   "id": "9555ae0c",
   "metadata": {},
   "outputs": [],
   "source": [
    "# fooof_result, fig1, _ = plot_channel_psd(psd_avg, channel_id=group_id, freq_range=200., plt_range=plt_range, figsize=(5, 4),\n",
    "#                                             aperiodic_mode=aperiodic_mode, dB_threshold=3., max_n_peaks=10, plot=not savefig, plt_log=True)\n"
   ]
  },
  {
   "cell_type": "code",
   "execution_count": null,
   "id": "f967fc82",
   "metadata": {},
   "outputs": [],
   "source": []
  },
  {
   "cell_type": "code",
   "execution_count": null,
   "id": "070690e1",
   "metadata": {},
   "outputs": [],
   "source": []
  }
 ],
 "metadata": {
  "kernelspec": {
   "display_name": "neuro2",
   "language": "python",
   "name": "python3"
  },
  "language_info": {
   "codemirror_mode": {
    "name": "ipython",
    "version": 3
   },
   "file_extension": ".py",
   "mimetype": "text/x-python",
   "name": "python",
   "nbconvert_exporter": "python",
   "pygments_lexer": "ipython3",
   "version": "3.10.18"
  }
 },
 "nbformat": 4,
 "nbformat_minor": 5
}
