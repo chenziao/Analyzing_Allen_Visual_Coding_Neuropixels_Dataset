{
 "cells": [
  {
   "cell_type": "code",
   "execution_count": 1,
   "id": "d1062260",
   "metadata": {},
   "outputs": [],
   "source": [
    "import json\n",
    "import numpy as np\n",
    "import pandas as pd\n",
    "from matplotlib import pyplot as plt\n",
    "\n",
    "from allensdk.brain_observatory.ecephys.ecephys_project_cache import EcephysProjectCache\n",
    "\n",
    "import add_path\n",
    "from toolkit import paths\n",
    "from toolkit.allen_helpers.location import CCF_COORDS\n",
    "from toolkit.plots.plots import plot_probe_channel_positions\n",
    "from toolkit.allen_helpers.location import fill_missing_linear_channels, StructureFinder, central_channel_in_structure\n",
    "from toolkit.analysis.signal import compute_csd\n",
    "from toolkit.pipeline.data_io import SessionDirectory\n",
    "\n",
    "pd.set_option('display.max_columns', None)\n",
    "\n",
    "with open('config.json') as f:\n",
    "    config = json.load(f)"
   ]
  },
  {
   "cell_type": "markdown",
   "id": "27caa141",
   "metadata": {},
   "source": [
    "## Get session and probe"
   ]
  },
  {
   "cell_type": "code",
   "execution_count": 2,
   "id": "1c616aa0",
   "metadata": {},
   "outputs": [],
   "source": [
    "# Cache directory path, it determines where downloaded data will be stored\n",
    "# Cache directory will be created if it doesn't exist\n",
    "cache = EcephysProjectCache.from_warehouse(manifest=paths.ECEPHYS_MANIFEST_FILE)"
   ]
  },
  {
   "cell_type": "code",
   "execution_count": 3,
   "id": "56d7a30e",
   "metadata": {},
   "outputs": [],
   "source": [
    "session_id = config['session_id']\n",
    "ecephys_structure_acronym = config['ecephys_structure_acronym']"
   ]
  },
  {
   "cell_type": "code",
   "execution_count": 4,
   "id": "1d41aecf",
   "metadata": {},
   "outputs": [
    {
     "name": "stderr",
     "output_type": "stream",
     "text": [
      "/home/zc963/anaconda3/envs/allen/lib/python3.10/site-packages/hdmf/spec/namespace.py:590: UserWarning: Ignoring the following cached namespace(s) because another version is already loaded:\n",
      "core - cached version: 2.2.2, loaded version: 2.7.0\n",
      "The loaded extension(s) may not be compatible with the cached extension(s) in the file. Please check the extension documentation and ignore this warning if these versions are compatible.\n",
      "  self.warn_for_ignored_namespaces(ignored_namespaces)\n"
     ]
    }
   ],
   "source": [
    "# get channels in the structure\n",
    "session = cache.get_session_data(session_id)\n",
    "all_channels = session.channels\n",
    "channels = all_channels.loc[all_channels['structure_acronym'] == ecephys_structure_acronym]"
   ]
  },
  {
   "cell_type": "code",
   "execution_count": null,
   "id": "7729458b",
   "metadata": {},
   "outputs": [],
   "source": [
    "# get probes for the session and structure (usually only one)\n",
    "no_lfp_error = None\n",
    "probes = cache.get_probes()\n",
    "probes = probes[probes['ecephys_session_id'] == session_id]\n",
    "probes = probes.iloc[\n",
    "    [ecephys_structure_acronym in x for x in probes['ecephys_structure_acronyms']]\n",
    "]\n",
    "\n",
    "if not len(probes):\n",
    "    no_lfp_error = ValueError(f\"No probes containing {ecephys_structure_acronym} found for session {session_id}\")\n",
    "\n",
    "# check if the probes have lfp data\n",
    "if not no_lfp_error and not any(probes['has_lfp_data']):\n",
    "    no_lfp_error = ValueError(f\"Probe {', '.join(map(str, probes.index))} has no LFP data\")\n",
    "probes = probes[probes['has_lfp_data']]\n",
    "\n",
    "if no_lfp_error:  # save null probe info and raise error\n",
    "    session_dir = SessionDirectory(session_id, ecephys_structure_acronym)\n",
    "    session_dir.save_null_probe_info()\n",
    "    raise no_lfp_error"
   ]
  },
  {
   "cell_type": "code",
   "execution_count": null,
   "id": "a42e4fe5",
   "metadata": {},
   "outputs": [],
   "source": [
    "# get the probe with the most channels in the structure\n",
    "n_channels_in_probe =  [np.count_nonzero(channels['probe_id'] == i) for i in probes.index]\n",
    "probe_id = probes.index[np.argmax(n_channels_in_probe)]\n",
    "fs = probes.loc[probe_id, 'lfp_sampling_rate']\n",
    "\n",
    "# channels in the probe sorted by probe_channel_number\n",
    "probe_channels = all_channels.loc[all_channels['probe_id'] == probe_id].sort_values('probe_channel_number')"
   ]
  },
  {
   "cell_type": "code",
   "execution_count": 6,
   "id": "2519ae04",
   "metadata": {},
   "outputs": [
    {
     "name": "stdout",
     "output_type": "stream",
     "text": [
      "Number of channels: 94\n",
      "Number of missing channels in middle: 3\n",
      "Vertical range: 960 μm\n",
      "Number of rows: 49\n"
     ]
    },
    {
     "data": {
      "image/png": "[encoded data removed]",
      "text/plain": [
       "<Figure size 1600x300 with 1 Axes>"
      ]
     },
     "metadata": {},
     "output_type": "display_data"
    }
   ],
   "source": [
    "# overview of channels layout in the structure\n",
    "vertical_position_range = channels['probe_vertical_position'].max() - channels['probe_vertical_position'].min()\n",
    "n_missing_channels = channels['probe_channel_number'].max() - channels['probe_channel_number'].min() + 1 - len(channels)\n",
    "print(f\"Number of channels: {len(channels):d}\")\n",
    "print(f\"Number of missing channels in middle: {n_missing_channels:d}\")\n",
    "print(f\"Vertical range: {vertical_position_range:d} μm\")\n",
    "print(f\"Number of rows: {vertical_position_range // 20 + 1:d}\")\n",
    "\n",
    "plot_probe_channel_positions(channels)\n",
    "plt.show()"
   ]
  },
  {
   "cell_type": "markdown",
   "id": "51a36ce2",
   "metadata": {},
   "source": [
    "### Find LFP channels locations in structure"
   ]
  },
  {
   "cell_type": "code",
   "execution_count": 7,
   "id": "239e87c9",
   "metadata": {},
   "outputs": [
    {
     "name": "stderr",
     "output_type": "stream",
     "text": [
      "/home/zc963/anaconda3/envs/allen/lib/python3.10/site-packages/hdmf/spec/namespace.py:590: UserWarning: Ignoring the following cached namespace(s) because another version is already loaded:\n",
      "core - cached version: 2.2.2, loaded version: 2.7.0\n",
      "The loaded extension(s) may not be compatible with the cached extension(s) in the file. Please check the extension documentation and ignore this warning if these versions are compatible.\n",
      "  self.warn_for_ignored_namespaces(ignored_namespaces)\n",
      "/home/zc963/anaconda3/envs/allen/lib/python3.10/site-packages/hdmf/spec/namespace.py:590: UserWarning: Ignoring the following cached namespace(s) because another version is already loaded:\n",
      "core - cached version: 2.2.2, loaded version: 2.7.0\n",
      "The loaded extension(s) may not be compatible with the cached extension(s) in the file. Please check the extension documentation and ignore this warning if these versions are compatible.\n",
      "  self.warn_for_ignored_namespaces(ignored_namespaces)\n",
      "/home/zc963/anaconda3/envs/allen/lib/python3.10/site-packages/allensdk/api/warehouse_cache/caching_utilities.py:127: UserWarning: retrying fetch (1 tries remaining)\n",
      "  warnings.warn(retry_message)\n"
     ]
    },
    {
     "ename": "ValueError",
     "evalue": "expected exactly 1 LFP NWB file for probe 846401834, found: Empty DataFrame\nColumns: []\nIndex: []",
     "output_type": "error",
     "traceback": [
      "\u001b[0;31m---------------------------------------------------------------------------\u001b[0m",
      "\u001b[0;31mFileNotFoundError\u001b[0m                         Traceback (most recent call last)",
      "File \u001b[0;32m~/anaconda3/envs/allen/lib/python3.10/site-packages/allensdk/api/warehouse_cache/caching_utilities.py:104\u001b[0m, in \u001b[0;36mcall_caching\u001b[0;34m(fetch, write, read, pre_write, cleanup, lazy, num_tries, failure_message)\u001b[0m\n\u001b[1;32m    103\u001b[0m         logger\u001b[38;5;241m.\u001b[39minfo(\u001b[38;5;124m\"\u001b[39m\u001b[38;5;124mReading data from cache\u001b[39m\u001b[38;5;124m\"\u001b[39m)\n\u001b[0;32m--> 104\u001b[0m         \u001b[38;5;28;01mreturn\u001b[39;00m \u001b[43mread\u001b[49m\u001b[43m(\u001b[49m\u001b[43m)\u001b[49m\n\u001b[1;32m    105\u001b[0m \u001b[38;5;28;01mexcept\u001b[39;00m \u001b[38;5;167;01mException\u001b[39;00m \u001b[38;5;28;01mas\u001b[39;00m e:\n",
      "File \u001b[0;32m~/anaconda3/envs/allen/lib/python3.10/site-packages/allensdk/brain_observatory/ecephys/ecephys_project_cache.py:774\u001b[0m, in \u001b[0;36mread_nwb\u001b[0;34m(path)\u001b[0m\n\u001b[1;32m    773\u001b[0m \u001b[38;5;28;01mdef\u001b[39;00m\u001b[38;5;250m \u001b[39m\u001b[38;5;21mread_nwb\u001b[39m(path):\n\u001b[0;32m--> 774\u001b[0m     reader \u001b[38;5;241m=\u001b[39m \u001b[43mpynwb\u001b[49m\u001b[38;5;241;43m.\u001b[39;49m\u001b[43mNWBHDF5IO\u001b[49m\u001b[43m(\u001b[49m\u001b[38;5;28;43mstr\u001b[39;49m\u001b[43m(\u001b[49m\u001b[43mpath\u001b[49m\u001b[43m)\u001b[49m\u001b[43m,\u001b[49m\u001b[43m \u001b[49m\u001b[38;5;124;43m'\u001b[39;49m\u001b[38;5;124;43mr\u001b[39;49m\u001b[38;5;124;43m'\u001b[39;49m\u001b[43m)\u001b[49m\n\u001b[1;32m    775\u001b[0m     nwbfile \u001b[38;5;241m=\u001b[39m reader\u001b[38;5;241m.\u001b[39mread()\n",
      "File \u001b[0;32m~/anaconda3/envs/allen/lib/python3.10/site-packages/hdmf/utils.py:578\u001b[0m, in \u001b[0;36mdocval.<locals>.dec.<locals>.func_call\u001b[0;34m(*args, **kwargs)\u001b[0m\n\u001b[1;32m    577\u001b[0m pargs \u001b[38;5;241m=\u001b[39m _check_args(args, kwargs)\n\u001b[0;32m--> 578\u001b[0m \u001b[38;5;28;01mreturn\u001b[39;00m \u001b[43mfunc\u001b[49m\u001b[43m(\u001b[49m\u001b[43margs\u001b[49m\u001b[43m[\u001b[49m\u001b[38;5;241;43m0\u001b[39;49m\u001b[43m]\u001b[49m\u001b[43m,\u001b[49m\u001b[43m \u001b[49m\u001b[38;5;241;43m*\u001b[39;49m\u001b[38;5;241;43m*\u001b[39;49m\u001b[43mpargs\u001b[49m\u001b[43m)\u001b[49m\n",
      "File \u001b[0;32m~/anaconda3/envs/allen/lib/python3.10/site-packages/pynwb/__init__.py:406\u001b[0m, in \u001b[0;36mNWBHDF5IO.__init__\u001b[0;34m(self, **kwargs)\u001b[0m\n\u001b[1;32m    405\u001b[0m tm \u001b[38;5;241m=\u001b[39m get_type_map()\n\u001b[0;32m--> 406\u001b[0m \u001b[38;5;28;43msuper\u001b[39;49m\u001b[43m(\u001b[49m\u001b[43m)\u001b[49m\u001b[38;5;241;43m.\u001b[39;49m\u001b[43mload_namespaces\u001b[49m\u001b[43m(\u001b[49m\u001b[43mtm\u001b[49m\u001b[43m,\u001b[49m\u001b[43m \u001b[49m\u001b[43mpath\u001b[49m\u001b[43m,\u001b[49m\u001b[43m \u001b[49m\u001b[43mfile\u001b[49m\u001b[38;5;241;43m=\u001b[39;49m\u001b[43mfile_obj\u001b[49m\u001b[43m,\u001b[49m\u001b[43m \u001b[49m\u001b[43mdriver\u001b[49m\u001b[38;5;241;43m=\u001b[39;49m\u001b[43mdriver\u001b[49m\u001b[43m,\u001b[49m\u001b[43m \u001b[49m\u001b[43maws_region\u001b[49m\u001b[38;5;241;43m=\u001b[39;49m\u001b[43maws_region\u001b[49m\u001b[43m)\u001b[49m\n\u001b[1;32m    407\u001b[0m manager \u001b[38;5;241m=\u001b[39m BuildManager(tm)\n",
      "File \u001b[0;32m~/anaconda3/envs/allen/lib/python3.10/site-packages/hdmf/utils.py:578\u001b[0m, in \u001b[0;36mdocval.<locals>.dec.<locals>.func_call\u001b[0;34m(*args, **kwargs)\u001b[0m\n\u001b[1;32m    577\u001b[0m pargs \u001b[38;5;241m=\u001b[39m _check_args(args, kwargs)\n\u001b[0;32m--> 578\u001b[0m \u001b[38;5;28;01mreturn\u001b[39;00m \u001b[43mfunc\u001b[49m\u001b[43m(\u001b[49m\u001b[43margs\u001b[49m\u001b[43m[\u001b[49m\u001b[38;5;241;43m0\u001b[39;49m\u001b[43m]\u001b[49m\u001b[43m,\u001b[49m\u001b[43m \u001b[49m\u001b[38;5;241;43m*\u001b[39;49m\u001b[38;5;241;43m*\u001b[39;49m\u001b[43mpargs\u001b[49m\u001b[43m)\u001b[49m\n",
      "File \u001b[0;32m~/anaconda3/envs/allen/lib/python3.10/site-packages/hdmf/backends/hdf5/h5tools.py:185\u001b[0m, in \u001b[0;36mHDF5IO.load_namespaces\u001b[0;34m(cls, **kwargs)\u001b[0m\n\u001b[1;32m    182\u001b[0m namespace_catalog, path, namespaces, file_obj, driver, aws_region \u001b[38;5;241m=\u001b[39m popargs(\n\u001b[1;32m    183\u001b[0m     \u001b[38;5;124m'\u001b[39m\u001b[38;5;124mnamespace_catalog\u001b[39m\u001b[38;5;124m'\u001b[39m, \u001b[38;5;124m'\u001b[39m\u001b[38;5;124mpath\u001b[39m\u001b[38;5;124m'\u001b[39m, \u001b[38;5;124m'\u001b[39m\u001b[38;5;124mnamespaces\u001b[39m\u001b[38;5;124m'\u001b[39m, \u001b[38;5;124m'\u001b[39m\u001b[38;5;124mfile\u001b[39m\u001b[38;5;124m'\u001b[39m, \u001b[38;5;124m'\u001b[39m\u001b[38;5;124mdriver\u001b[39m\u001b[38;5;124m'\u001b[39m, \u001b[38;5;124m'\u001b[39m\u001b[38;5;124maws_region\u001b[39m\u001b[38;5;124m'\u001b[39m, kwargs)\n\u001b[0;32m--> 185\u001b[0m open_file_obj \u001b[38;5;241m=\u001b[39m \u001b[38;5;28;43mcls\u001b[39;49m\u001b[38;5;241;43m.\u001b[39;49m\u001b[43m__resolve_file_obj\u001b[49m\u001b[43m(\u001b[49m\u001b[43mpath\u001b[49m\u001b[43m,\u001b[49m\u001b[43m \u001b[49m\u001b[43mfile_obj\u001b[49m\u001b[43m,\u001b[49m\u001b[43m \u001b[49m\u001b[43mdriver\u001b[49m\u001b[43m,\u001b[49m\u001b[43m \u001b[49m\u001b[43maws_region\u001b[49m\u001b[38;5;241;43m=\u001b[39;49m\u001b[43maws_region\u001b[49m\u001b[43m)\u001b[49m\n\u001b[1;32m    186\u001b[0m \u001b[38;5;28;01mif\u001b[39;00m file_obj \u001b[38;5;129;01mis\u001b[39;00m \u001b[38;5;28;01mNone\u001b[39;00m:  \u001b[38;5;66;03m# need to close the file object that we just opened\u001b[39;00m\n",
      "File \u001b[0;32m~/anaconda3/envs/allen/lib/python3.10/site-packages/hdmf/backends/hdf5/h5tools.py:158\u001b[0m, in \u001b[0;36mHDF5IO.__resolve_file_obj\u001b[0;34m(cls, path, file_obj, driver, aws_region)\u001b[0m\n\u001b[1;32m    157\u001b[0m             file_kwargs\u001b[38;5;241m.\u001b[39mupdate(aws_region\u001b[38;5;241m=\u001b[39m\u001b[38;5;28mbytes\u001b[39m(aws_region, \u001b[38;5;124m\"\u001b[39m\u001b[38;5;124mascii\u001b[39m\u001b[38;5;124m\"\u001b[39m))\n\u001b[0;32m--> 158\u001b[0m     file_obj \u001b[38;5;241m=\u001b[39m \u001b[43mFile\u001b[49m\u001b[43m(\u001b[49m\u001b[43mpath\u001b[49m\u001b[43m,\u001b[49m\u001b[43m \u001b[49m\u001b[38;5;124;43m'\u001b[39;49m\u001b[38;5;124;43mr\u001b[39;49m\u001b[38;5;124;43m'\u001b[39;49m\u001b[43m,\u001b[49m\u001b[43m \u001b[49m\u001b[38;5;241;43m*\u001b[39;49m\u001b[38;5;241;43m*\u001b[39;49m\u001b[43mfile_kwargs\u001b[49m\u001b[43m)\u001b[49m\n\u001b[1;32m    159\u001b[0m \u001b[38;5;28;01mreturn\u001b[39;00m file_obj\n",
      "File \u001b[0;32m~/anaconda3/envs/allen/lib/python3.10/site-packages/h5py/_hl/files.py:564\u001b[0m, in \u001b[0;36mFile.__init__\u001b[0;34m(self, name, mode, driver, libver, userblock_size, swmr, rdcc_nslots, rdcc_nbytes, rdcc_w0, track_order, fs_strategy, fs_persist, fs_threshold, fs_page_size, page_buf_size, min_meta_keep, min_raw_keep, locking, alignment_threshold, alignment_interval, meta_block_size, **kwds)\u001b[0m\n\u001b[1;32m    561\u001b[0m     fcpl \u001b[38;5;241m=\u001b[39m make_fcpl(track_order\u001b[38;5;241m=\u001b[39mtrack_order, fs_strategy\u001b[38;5;241m=\u001b[39mfs_strategy,\n\u001b[1;32m    562\u001b[0m                      fs_persist\u001b[38;5;241m=\u001b[39mfs_persist, fs_threshold\u001b[38;5;241m=\u001b[39mfs_threshold,\n\u001b[1;32m    563\u001b[0m                      fs_page_size\u001b[38;5;241m=\u001b[39mfs_page_size)\n\u001b[0;32m--> 564\u001b[0m     fid \u001b[38;5;241m=\u001b[39m \u001b[43mmake_fid\u001b[49m\u001b[43m(\u001b[49m\u001b[43mname\u001b[49m\u001b[43m,\u001b[49m\u001b[43m \u001b[49m\u001b[43mmode\u001b[49m\u001b[43m,\u001b[49m\u001b[43m \u001b[49m\u001b[43muserblock_size\u001b[49m\u001b[43m,\u001b[49m\u001b[43m \u001b[49m\u001b[43mfapl\u001b[49m\u001b[43m,\u001b[49m\u001b[43m \u001b[49m\u001b[43mfcpl\u001b[49m\u001b[43m,\u001b[49m\u001b[43m \u001b[49m\u001b[43mswmr\u001b[49m\u001b[38;5;241;43m=\u001b[39;49m\u001b[43mswmr\u001b[49m\u001b[43m)\u001b[49m\n\u001b[1;32m    566\u001b[0m \u001b[38;5;28;01mif\u001b[39;00m \u001b[38;5;28misinstance\u001b[39m(libver, \u001b[38;5;28mtuple\u001b[39m):\n",
      "File \u001b[0;32m~/anaconda3/envs/allen/lib/python3.10/site-packages/h5py/_hl/files.py:238\u001b[0m, in \u001b[0;36mmake_fid\u001b[0;34m(name, mode, userblock_size, fapl, fcpl, swmr)\u001b[0m\n\u001b[1;32m    237\u001b[0m         flags \u001b[38;5;241m|\u001b[39m\u001b[38;5;241m=\u001b[39m h5f\u001b[38;5;241m.\u001b[39mACC_SWMR_READ\n\u001b[0;32m--> 238\u001b[0m     fid \u001b[38;5;241m=\u001b[39m \u001b[43mh5f\u001b[49m\u001b[38;5;241;43m.\u001b[39;49m\u001b[43mopen\u001b[49m\u001b[43m(\u001b[49m\u001b[43mname\u001b[49m\u001b[43m,\u001b[49m\u001b[43m \u001b[49m\u001b[43mflags\u001b[49m\u001b[43m,\u001b[49m\u001b[43m \u001b[49m\u001b[43mfapl\u001b[49m\u001b[38;5;241;43m=\u001b[39;49m\u001b[43mfapl\u001b[49m\u001b[43m)\u001b[49m\n\u001b[1;32m    239\u001b[0m \u001b[38;5;28;01melif\u001b[39;00m mode \u001b[38;5;241m==\u001b[39m \u001b[38;5;124m'\u001b[39m\u001b[38;5;124mr+\u001b[39m\u001b[38;5;124m'\u001b[39m:\n",
      "File \u001b[0;32mh5py/_objects.pyx:56\u001b[0m, in \u001b[0;36mh5py._objects.with_phil.wrapper\u001b[0;34m()\u001b[0m\n",
      "File \u001b[0;32mh5py/_objects.pyx:57\u001b[0m, in \u001b[0;36mh5py._objects.with_phil.wrapper\u001b[0;34m()\u001b[0m\n",
      "File \u001b[0;32mh5py/h5f.pyx:102\u001b[0m, in \u001b[0;36mh5py.h5f.open\u001b[0;34m()\u001b[0m\n",
      "\u001b[0;31mFileNotFoundError\u001b[0m: [Errno 2] Unable to synchronously open file (unable to open file: name = '/home/shared/Allen_Visual_Coding_Data/cache/ecephys_cache_dir/session_839557629/probe_846401834_lfp.nwb', errno = 2, error message = 'No such file or directory', flags = 0, o_flags = 0)",
      "\nDuring handling of the above exception, another exception occurred:\n",
      "\u001b[0;31mValueError\u001b[0m                                Traceback (most recent call last)",
      "File \u001b[0;32m~/anaconda3/envs/allen/lib/python3.10/site-packages/allensdk/api/warehouse_cache/caching_utilities.py:96\u001b[0m, in \u001b[0;36mcall_caching\u001b[0;34m(fetch, write, read, pre_write, cleanup, lazy, num_tries, failure_message)\u001b[0m\n\u001b[1;32m     95\u001b[0m logger\u001b[38;5;241m.\u001b[39minfo(\u001b[38;5;124m\"\u001b[39m\u001b[38;5;124mFetching data from remote\u001b[39m\u001b[38;5;124m\"\u001b[39m)\n\u001b[0;32m---> 96\u001b[0m data \u001b[38;5;241m=\u001b[39m \u001b[43mfetch\u001b[49m\u001b[43m(\u001b[49m\u001b[43m)\u001b[49m\n\u001b[1;32m     97\u001b[0m \u001b[38;5;28;01mif\u001b[39;00m pre_write \u001b[38;5;129;01mis\u001b[39;00m \u001b[38;5;129;01mnot\u001b[39;00m \u001b[38;5;28;01mNone\u001b[39;00m:\n",
      "File \u001b[0;32m~/anaconda3/envs/allen/lib/python3.10/site-packages/allensdk/brain_observatory/ecephys/ecephys_project_api/ecephys_project_warehouse_api.py:115\u001b[0m, in \u001b[0;36mEcephysProjectWarehouseApi.get_probe_lfp_data\u001b[0;34m(self, probe_id)\u001b[0m\n\u001b[1;32m    114\u001b[0m \u001b[38;5;28;01mif\u001b[39;00m well_known_files\u001b[38;5;241m.\u001b[39mshape[\u001b[38;5;241m0\u001b[39m] \u001b[38;5;241m!=\u001b[39m \u001b[38;5;241m1\u001b[39m:\n\u001b[0;32m--> 115\u001b[0m     \u001b[38;5;28;01mraise\u001b[39;00m \u001b[38;5;167;01mValueError\u001b[39;00m(\n\u001b[1;32m    116\u001b[0m         \u001b[38;5;124mf\u001b[39m\u001b[38;5;124m\"\u001b[39m\u001b[38;5;124mexpected exactly 1 LFP NWB file for probe \u001b[39m\u001b[38;5;132;01m{\u001b[39;00mprobe_id\u001b[38;5;132;01m}\u001b[39;00m\u001b[38;5;124m, found: \u001b[39m\u001b[38;5;132;01m{\u001b[39;00mwell_known_files\u001b[38;5;132;01m}\u001b[39;00m\u001b[38;5;124m\"\u001b[39m  \u001b[38;5;66;03m# noqa: E501\u001b[39;00m\n\u001b[1;32m    117\u001b[0m     )\n\u001b[1;32m    119\u001b[0m download_link \u001b[38;5;241m=\u001b[39m well_known_files\u001b[38;5;241m.\u001b[39mloc[\u001b[38;5;241m0\u001b[39m, \u001b[38;5;124m\"\u001b[39m\u001b[38;5;124mdownload_link\u001b[39m\u001b[38;5;124m\"\u001b[39m]\n",
      "\u001b[0;31mValueError\u001b[0m: expected exactly 1 LFP NWB file for probe 846401834, found: Empty DataFrame\nColumns: []\nIndex: []",
      "\nDuring handling of the above exception, another exception occurred:\n",
      "\u001b[0;31mValueError\u001b[0m                                Traceback (most recent call last)",
      "Cell \u001b[0;32mIn[7], line 2\u001b[0m\n\u001b[1;32m      1\u001b[0m \u001b[38;5;66;03m# Load LFP given probe\u001b[39;00m\n\u001b[0;32m----> 2\u001b[0m lfp_array \u001b[38;5;241m=\u001b[39m \u001b[43msession\u001b[49m\u001b[38;5;241;43m.\u001b[39;49m\u001b[43mget_lfp\u001b[49m\u001b[43m(\u001b[49m\u001b[43mprobe_id\u001b[49m\u001b[43m)\u001b[49m\n\u001b[1;32m      3\u001b[0m lfp_array\u001b[38;5;241m.\u001b[39mattrs\u001b[38;5;241m.\u001b[39mupdate(fs\u001b[38;5;241m=\u001b[39mfs)\n",
      "File \u001b[0;32m~/anaconda3/envs/allen/lib/python3.10/site-packages/allensdk/brain_observatory/ecephys/ecephys_session.py:399\u001b[0m, in \u001b[0;36mEcephysSession.get_lfp\u001b[0;34m(self, probe_id, mask_invalid_intervals)\u001b[0m\n\u001b[1;32m    396\u001b[0m fail_tags \u001b[38;5;241m=\u001b[39m [\u001b[38;5;124m\"\u001b[39m\u001b[38;5;124mall_probes\u001b[39m\u001b[38;5;124m\"\u001b[39m, probe_name]\n\u001b[1;32m    397\u001b[0m invalid_time_intervals \u001b[38;5;241m=\u001b[39m \\\n\u001b[1;32m    398\u001b[0m     \u001b[38;5;28mself\u001b[39m\u001b[38;5;241m.\u001b[39m_filter_invalid_times_by_tags(fail_tags)\n\u001b[0;32m--> 399\u001b[0m lfp \u001b[38;5;241m=\u001b[39m \u001b[38;5;28;43mself\u001b[39;49m\u001b[38;5;241;43m.\u001b[39;49m\u001b[43mapi\u001b[49m\u001b[38;5;241;43m.\u001b[39;49m\u001b[43mget_lfp\u001b[49m\u001b[43m(\u001b[49m\u001b[43mprobe_id\u001b[49m\u001b[43m)\u001b[49m\n\u001b[1;32m    400\u001b[0m time_points \u001b[38;5;241m=\u001b[39m lfp\u001b[38;5;241m.\u001b[39mtime\n\u001b[1;32m    401\u001b[0m valid_time_points \u001b[38;5;241m=\u001b[39m \\\n\u001b[1;32m    402\u001b[0m     \u001b[38;5;28mself\u001b[39m\u001b[38;5;241m.\u001b[39m_get_valid_time_points(time_points,\n\u001b[1;32m    403\u001b[0m                                 invalid_time_intervals)\n",
      "File \u001b[0;32m~/anaconda3/envs/allen/lib/python3.10/site-packages/allensdk/brain_observatory/ecephys/ecephys_session_api/ecephys_nwb_session_api.py:164\u001b[0m, in \u001b[0;36mEcephysNwbSessionApi.get_lfp\u001b[0;34m(self, probe_id)\u001b[0m\n\u001b[1;32m    163\u001b[0m \u001b[38;5;28;01mdef\u001b[39;00m\u001b[38;5;250m \u001b[39m\u001b[38;5;21mget_lfp\u001b[39m(\u001b[38;5;28mself\u001b[39m, probe_id: \u001b[38;5;28mint\u001b[39m) \u001b[38;5;241m-\u001b[39m\u001b[38;5;241m>\u001b[39m xr\u001b[38;5;241m.\u001b[39mDataArray:\n\u001b[0;32m--> 164\u001b[0m     lfp_file \u001b[38;5;241m=\u001b[39m \u001b[38;5;28;43mself\u001b[39;49m\u001b[38;5;241;43m.\u001b[39;49m\u001b[43m_probe_nwbfile\u001b[49m\u001b[43m(\u001b[49m\u001b[43mprobe_id\u001b[49m\u001b[43m)\u001b[49m\n\u001b[1;32m    165\u001b[0m     lfp \u001b[38;5;241m=\u001b[39m lfp_file\u001b[38;5;241m.\u001b[39mget_acquisition(\u001b[38;5;124mf\u001b[39m\u001b[38;5;124m'\u001b[39m\u001b[38;5;124mprobe_\u001b[39m\u001b[38;5;132;01m{\u001b[39;00mprobe_id\u001b[38;5;132;01m}\u001b[39;00m\u001b[38;5;124m_lfp\u001b[39m\u001b[38;5;124m'\u001b[39m)\n\u001b[1;32m    166\u001b[0m     series \u001b[38;5;241m=\u001b[39m lfp\u001b[38;5;241m.\u001b[39mget_electrical_series(\u001b[38;5;124mf\u001b[39m\u001b[38;5;124m'\u001b[39m\u001b[38;5;124mprobe_\u001b[39m\u001b[38;5;132;01m{\u001b[39;00mprobe_id\u001b[38;5;132;01m}\u001b[39;00m\u001b[38;5;124m_lfp_data\u001b[39m\u001b[38;5;124m'\u001b[39m)\n",
      "File \u001b[0;32m~/anaconda3/envs/allen/lib/python3.10/site-packages/allensdk/brain_observatory/ecephys/ecephys_session_api/ecephys_nwb_session_api.py:115\u001b[0m, in \u001b[0;36mEcephysNwbSessionApi._probe_nwbfile\u001b[0;34m(self, probe_id)\u001b[0m\n\u001b[1;32m    111\u001b[0m \u001b[38;5;28;01melif\u001b[39;00m probe_id \u001b[38;5;129;01mnot\u001b[39;00m \u001b[38;5;129;01min\u001b[39;00m \u001b[38;5;28mself\u001b[39m\u001b[38;5;241m.\u001b[39mprobe_lfp_paths:\n\u001b[1;32m    112\u001b[0m     \u001b[38;5;28;01mraise\u001b[39;00m \u001b[38;5;167;01mKeyError\u001b[39;00m(\n\u001b[1;32m    113\u001b[0m         \u001b[38;5;124mf\u001b[39m\u001b[38;5;124m\"\u001b[39m\u001b[38;5;124mno probe lfp file path is recorded for probe \u001b[39m\u001b[38;5;132;01m{\u001b[39;00mprobe_id\u001b[38;5;132;01m}\u001b[39;00m\u001b[38;5;124m\"\u001b[39m)\n\u001b[0;32m--> 115\u001b[0m \u001b[38;5;28;01mreturn\u001b[39;00m \u001b[38;5;28;43mself\u001b[39;49m\u001b[38;5;241;43m.\u001b[39;49m\u001b[43mprobe_lfp_paths\u001b[49m\u001b[43m[\u001b[49m\u001b[43mprobe_id\u001b[49m\u001b[43m]\u001b[49m\u001b[43m(\u001b[49m\u001b[43m)\u001b[49m\n",
      "File \u001b[0;32m~/anaconda3/envs/allen/lib/python3.10/site-packages/allensdk/api/warehouse_cache/caching_utilities.py:179\u001b[0m, in \u001b[0;36mone_file_call_caching\u001b[0;34m(path, fetch, write, read, pre_write, cleanup, lazy, num_tries, failure_message)\u001b[0m\n\u001b[1;32m    176\u001b[0m \u001b[38;5;28;01mif\u001b[39;00m cleanup \u001b[38;5;129;01mis\u001b[39;00m \u001b[38;5;28;01mNone\u001b[39;00m:\n\u001b[1;32m    177\u001b[0m     cleanup \u001b[38;5;241m=\u001b[39m safe_unlink\n\u001b[0;32m--> 179\u001b[0m \u001b[38;5;28;01mreturn\u001b[39;00m \u001b[43mcall_caching\u001b[49m\u001b[43m(\u001b[49m\n\u001b[1;32m    180\u001b[0m \u001b[43m    \u001b[49m\u001b[43mfetch\u001b[49m\u001b[43m,\u001b[49m\n\u001b[1;32m    181\u001b[0m \u001b[43m    \u001b[49m\u001b[43msafe_write\u001b[49m\u001b[43m,\u001b[49m\n\u001b[1;32m    182\u001b[0m \u001b[43m    \u001b[49m\u001b[43mread\u001b[49m\u001b[43m,\u001b[49m\n\u001b[1;32m    183\u001b[0m \u001b[43m    \u001b[49m\u001b[43mpre_write\u001b[49m\u001b[38;5;241;43m=\u001b[39;49m\u001b[43mpre_write\u001b[49m\u001b[43m,\u001b[49m\n\u001b[1;32m    184\u001b[0m \u001b[43m    \u001b[49m\u001b[43mcleanup\u001b[49m\u001b[38;5;241;43m=\u001b[39;49m\u001b[43mcleanup\u001b[49m\u001b[43m,\u001b[49m\n\u001b[1;32m    185\u001b[0m \u001b[43m    \u001b[49m\u001b[43mlazy\u001b[49m\u001b[38;5;241;43m=\u001b[39;49m\u001b[43mlazy\u001b[49m\u001b[43m,\u001b[49m\n\u001b[1;32m    186\u001b[0m \u001b[43m    \u001b[49m\u001b[43mnum_tries\u001b[49m\u001b[38;5;241;43m=\u001b[39;49m\u001b[43mnum_tries\u001b[49m\u001b[43m,\u001b[49m\n\u001b[1;32m    187\u001b[0m \u001b[43m    \u001b[49m\u001b[43mfailure_message\u001b[49m\u001b[38;5;241;43m=\u001b[39;49m\u001b[43mfailure_message\u001b[49m\u001b[43m,\u001b[49m\n\u001b[1;32m    188\u001b[0m \u001b[43m\u001b[49m\u001b[43m)\u001b[49m\n",
      "File \u001b[0;32m~/anaconda3/envs/allen/lib/python3.10/site-packages/allensdk/api/warehouse_cache/caching_utilities.py:129\u001b[0m, in \u001b[0;36mcall_caching\u001b[0;34m(fetch, write, read, pre_write, cleanup, lazy, num_tries, failure_message)\u001b[0m\n\u001b[1;32m    126\u001b[0m     \u001b[38;5;28;01mif\u001b[39;00m \u001b[38;5;129;01mnot\u001b[39;00m lazy:\n\u001b[1;32m    127\u001b[0m         warnings\u001b[38;5;241m.\u001b[39mwarn(retry_message)\n\u001b[0;32m--> 129\u001b[0m     \u001b[38;5;28;01mreturn\u001b[39;00m \u001b[43mcall_caching\u001b[49m\u001b[43m(\u001b[49m\n\u001b[1;32m    130\u001b[0m \u001b[43m        \u001b[49m\u001b[43mfetch\u001b[49m\u001b[43m,\u001b[49m\n\u001b[1;32m    131\u001b[0m \u001b[43m        \u001b[49m\u001b[43mwrite\u001b[49m\u001b[43m,\u001b[49m\n\u001b[1;32m    132\u001b[0m \u001b[43m        \u001b[49m\u001b[43mread\u001b[49m\u001b[43m,\u001b[49m\n\u001b[1;32m    133\u001b[0m \u001b[43m        \u001b[49m\u001b[43mpre_write\u001b[49m\u001b[38;5;241;43m=\u001b[39;49m\u001b[43mpre_write\u001b[49m\u001b[43m,\u001b[49m\n\u001b[1;32m    134\u001b[0m \u001b[43m        \u001b[49m\u001b[43mcleanup\u001b[49m\u001b[38;5;241;43m=\u001b[39;49m\u001b[43mcleanup\u001b[49m\u001b[43m,\u001b[49m\n\u001b[1;32m    135\u001b[0m \u001b[43m        \u001b[49m\u001b[43mlazy\u001b[49m\u001b[38;5;241;43m=\u001b[39;49m\u001b[38;5;28;43;01mFalse\u001b[39;49;00m\u001b[43m,\u001b[49m\n\u001b[1;32m    136\u001b[0m \u001b[43m        \u001b[49m\u001b[43mnum_tries\u001b[49m\u001b[38;5;241;43m=\u001b[39;49m\u001b[43mnum_tries\u001b[49m\u001b[43m,\u001b[49m\n\u001b[1;32m    137\u001b[0m \u001b[43m        \u001b[49m\u001b[43mfailure_message\u001b[49m\u001b[38;5;241;43m=\u001b[39;49m\u001b[43mfailure_message\u001b[49m\u001b[43m,\u001b[49m\n\u001b[1;32m    138\u001b[0m \u001b[43m    \u001b[49m\u001b[43m)\u001b[49m\n\u001b[1;32m    140\u001b[0m \u001b[38;5;28;01mreturn\u001b[39;00m \u001b[38;5;28;01mNone\u001b[39;00m\n",
      "File \u001b[0;32m~/anaconda3/envs/allen/lib/python3.10/site-packages/allensdk/api/warehouse_cache/caching_utilities.py:129\u001b[0m, in \u001b[0;36mcall_caching\u001b[0;34m(fetch, write, read, pre_write, cleanup, lazy, num_tries, failure_message)\u001b[0m\n\u001b[1;32m    126\u001b[0m     \u001b[38;5;28;01mif\u001b[39;00m \u001b[38;5;129;01mnot\u001b[39;00m lazy:\n\u001b[1;32m    127\u001b[0m         warnings\u001b[38;5;241m.\u001b[39mwarn(retry_message)\n\u001b[0;32m--> 129\u001b[0m     \u001b[38;5;28;01mreturn\u001b[39;00m \u001b[43mcall_caching\u001b[49m\u001b[43m(\u001b[49m\n\u001b[1;32m    130\u001b[0m \u001b[43m        \u001b[49m\u001b[43mfetch\u001b[49m\u001b[43m,\u001b[49m\n\u001b[1;32m    131\u001b[0m \u001b[43m        \u001b[49m\u001b[43mwrite\u001b[49m\u001b[43m,\u001b[49m\n\u001b[1;32m    132\u001b[0m \u001b[43m        \u001b[49m\u001b[43mread\u001b[49m\u001b[43m,\u001b[49m\n\u001b[1;32m    133\u001b[0m \u001b[43m        \u001b[49m\u001b[43mpre_write\u001b[49m\u001b[38;5;241;43m=\u001b[39;49m\u001b[43mpre_write\u001b[49m\u001b[43m,\u001b[49m\n\u001b[1;32m    134\u001b[0m \u001b[43m        \u001b[49m\u001b[43mcleanup\u001b[49m\u001b[38;5;241;43m=\u001b[39;49m\u001b[43mcleanup\u001b[49m\u001b[43m,\u001b[49m\n\u001b[1;32m    135\u001b[0m \u001b[43m        \u001b[49m\u001b[43mlazy\u001b[49m\u001b[38;5;241;43m=\u001b[39;49m\u001b[38;5;28;43;01mFalse\u001b[39;49;00m\u001b[43m,\u001b[49m\n\u001b[1;32m    136\u001b[0m \u001b[43m        \u001b[49m\u001b[43mnum_tries\u001b[49m\u001b[38;5;241;43m=\u001b[39;49m\u001b[43mnum_tries\u001b[49m\u001b[43m,\u001b[49m\n\u001b[1;32m    137\u001b[0m \u001b[43m        \u001b[49m\u001b[43mfailure_message\u001b[49m\u001b[38;5;241;43m=\u001b[39;49m\u001b[43mfailure_message\u001b[49m\u001b[43m,\u001b[49m\n\u001b[1;32m    138\u001b[0m \u001b[43m    \u001b[49m\u001b[43m)\u001b[49m\n\u001b[1;32m    140\u001b[0m \u001b[38;5;28;01mreturn\u001b[39;00m \u001b[38;5;28;01mNone\u001b[39;00m\n",
      "File \u001b[0;32m~/anaconda3/envs/allen/lib/python3.10/site-packages/allensdk/api/warehouse_cache/caching_utilities.py:96\u001b[0m, in \u001b[0;36mcall_caching\u001b[0;34m(fetch, write, read, pre_write, cleanup, lazy, num_tries, failure_message)\u001b[0m\n\u001b[1;32m     94\u001b[0m \u001b[38;5;28;01mif\u001b[39;00m \u001b[38;5;129;01mnot\u001b[39;00m lazy \u001b[38;5;129;01mor\u001b[39;00m read \u001b[38;5;129;01mis\u001b[39;00m \u001b[38;5;28;01mNone\u001b[39;00m:\n\u001b[1;32m     95\u001b[0m     logger\u001b[38;5;241m.\u001b[39minfo(\u001b[38;5;124m\"\u001b[39m\u001b[38;5;124mFetching data from remote\u001b[39m\u001b[38;5;124m\"\u001b[39m)\n\u001b[0;32m---> 96\u001b[0m     data \u001b[38;5;241m=\u001b[39m \u001b[43mfetch\u001b[49m\u001b[43m(\u001b[49m\u001b[43m)\u001b[49m\n\u001b[1;32m     97\u001b[0m     \u001b[38;5;28;01mif\u001b[39;00m pre_write \u001b[38;5;129;01mis\u001b[39;00m \u001b[38;5;129;01mnot\u001b[39;00m \u001b[38;5;28;01mNone\u001b[39;00m:\n\u001b[1;32m     98\u001b[0m         data \u001b[38;5;241m=\u001b[39m pre_write(data)\n",
      "File \u001b[0;32m~/anaconda3/envs/allen/lib/python3.10/site-packages/allensdk/brain_observatory/ecephys/ecephys_project_api/ecephys_project_warehouse_api.py:115\u001b[0m, in \u001b[0;36mEcephysProjectWarehouseApi.get_probe_lfp_data\u001b[0;34m(self, probe_id)\u001b[0m\n\u001b[1;32m    103\u001b[0m well_known_files \u001b[38;5;241m=\u001b[39m build_and_execute(\n\u001b[1;32m    104\u001b[0m     (\n\u001b[1;32m    105\u001b[0m         \u001b[38;5;124m\"\u001b[39m\u001b[38;5;124mcriteria=model::WellKnownFile\u001b[39m\u001b[38;5;124m\"\u001b[39m\n\u001b[0;32m   (...)\u001b[0m\n\u001b[1;32m    111\u001b[0m     probe_id\u001b[38;5;241m=\u001b[39mprobe_id,\n\u001b[1;32m    112\u001b[0m )\n\u001b[1;32m    114\u001b[0m \u001b[38;5;28;01mif\u001b[39;00m well_known_files\u001b[38;5;241m.\u001b[39mshape[\u001b[38;5;241m0\u001b[39m] \u001b[38;5;241m!=\u001b[39m \u001b[38;5;241m1\u001b[39m:\n\u001b[0;32m--> 115\u001b[0m     \u001b[38;5;28;01mraise\u001b[39;00m \u001b[38;5;167;01mValueError\u001b[39;00m(\n\u001b[1;32m    116\u001b[0m         \u001b[38;5;124mf\u001b[39m\u001b[38;5;124m\"\u001b[39m\u001b[38;5;124mexpected exactly 1 LFP NWB file for probe \u001b[39m\u001b[38;5;132;01m{\u001b[39;00mprobe_id\u001b[38;5;132;01m}\u001b[39;00m\u001b[38;5;124m, found: \u001b[39m\u001b[38;5;132;01m{\u001b[39;00mwell_known_files\u001b[38;5;132;01m}\u001b[39;00m\u001b[38;5;124m\"\u001b[39m  \u001b[38;5;66;03m# noqa: E501\u001b[39;00m\n\u001b[1;32m    117\u001b[0m     )\n\u001b[1;32m    119\u001b[0m download_link \u001b[38;5;241m=\u001b[39m well_known_files\u001b[38;5;241m.\u001b[39mloc[\u001b[38;5;241m0\u001b[39m, \u001b[38;5;124m\"\u001b[39m\u001b[38;5;124mdownload_link\u001b[39m\u001b[38;5;124m\"\u001b[39m]\n\u001b[1;32m    120\u001b[0m \u001b[38;5;28;01mreturn\u001b[39;00m \u001b[38;5;28mself\u001b[39m\u001b[38;5;241m.\u001b[39mrma_engine\u001b[38;5;241m.\u001b[39mstream(download_link)\n",
      "\u001b[0;31mValueError\u001b[0m: expected exactly 1 LFP NWB file for probe 846401834, found: Empty DataFrame\nColumns: []\nIndex: []"
     ]
    }
   ],
   "source": [
    "# Load LFP given probe\n",
    "lfp_array = session.get_lfp(probe_id)\n",
    "lfp_array.attrs.update(fs=fs)"
   ]
  },
  {
   "cell_type": "code",
   "execution_count": null,
   "id": "d2415e5e",
   "metadata": {},
   "outputs": [],
   "source": [
    "# fill possible missing channels\n",
    "probe_channels = fill_missing_linear_channels(probe_channels, lfp_array.channel)\n",
    "\n",
    "# get channels in the structure in the probe\n",
    "channels = probe_channels.loc[probe_channels['structure_acronym'] == ecephys_structure_acronym]\n",
    "\n",
    "# Ensure channels are sorted by vertical position\n",
    "channel_idx = np.argsort(probe_channels.loc[lfp_array.channel, 'probe_vertical_position'])\n",
    "if not np.all(np.diff(channel_idx) == 1):\n",
    "    lfp_array = lfp_array.isel(channel=channel_idx)"
   ]
  },
  {
   "cell_type": "code",
   "execution_count": null,
   "id": "4302d7b6",
   "metadata": {},
   "outputs": [],
   "source": [
    "# get LFP channels in the structure\n",
    "channel_idx = np.nonzero([i in channels.index for i in lfp_array.channel.values])[0]\n",
    "channel_idx_csd = np.copy(channel_idx)  # channel indices for CSD\n",
    "\n",
    "padding = [1, 1]  # replicate padding for iCSD boundaries\n",
    "if channel_idx[0] > 0:\n",
    "    padding[0] = 0  # no padding if a leading channel exists\n",
    "    channel_idx_csd = np.insert(channel_idx_csd, 0, channel_idx[0] - 1)\n",
    "if channel_idx[-1] < lfp_array.channel.size - 1:\n",
    "    padding[1] = 0  # no padding if a trailing channel exists\n",
    "    channel_idx_csd = np.append(channel_idx_csd, channel_idx[-1] + 1)\n",
    "\n",
    "channels_id = lfp_array.channel[channel_idx]\n",
    "channels_id_csd = lfp_array.channel[channel_idx_csd]\n",
    "\n",
    "csd_channel_positions = probe_channels.loc[channels_id_csd, 'probe_vertical_position']\n",
    "\n",
    "# validate if the spacing between LFP channels is consistent\n",
    "if np.unique(np.diff(csd_channel_positions)).size != 1:\n",
    "    raise ValueError('The spacing between LFP channels is not consistent')"
   ]
  },
  {
   "cell_type": "code",
   "execution_count": null,
   "id": "76627d6e",
   "metadata": {},
   "outputs": [],
   "source": [
    "# Get dataframe for LFP channels in the structure and get layer of each channel\n",
    "lfp_channels = channels.loc[channels_id]\n",
    "sf = StructureFinder(paths.REFERENCE_SPACE_CACHE_DIR)\n",
    "lfp_channels['layer_acronym'], lfp_channels['inside_structure'] = \\\n",
    "    sf.get_structure_array(lfp_channels[CCF_COORDS])"
   ]
  },
  {
   "cell_type": "code",
   "execution_count": null,
   "id": "412ce4be",
   "metadata": {},
   "outputs": [],
   "source": [
    "# Get central channels in each layer\n",
    "valid_channels = lfp_channels.loc[lfp_channels['inside_structure']]\n",
    "central_channels = central_channel_in_structure(valid_channels['layer_acronym'])\n",
    "central_channels = {s: int(valid_channels.index[i]) for s, i in central_channels.items()}"
   ]
  },
  {
   "cell_type": "code",
   "execution_count": null,
   "id": "53d150c7",
   "metadata": {},
   "outputs": [
    {
     "name": "stderr",
     "output_type": "stream",
     "text": [
      "/home/group/Analyzing_Allen_Visual_Coding_Neuropixels_Dataset/notebooks/../toolkit/utils/quantity_units.py:111: UserWarning: DataArray has no attribute 'unit', assuming unit 'V/µm²'\n",
      "  warnings.warn(f\"DataArray has no attribute 'unit', assuming unit '{as_unicode(src_unit)}'\")\n"
     ]
    }
   ],
   "source": [
    "# Select channels for CSD\n",
    "csd_array = compute_csd(\n",
    "    lfp=lfp_array.sel(channel=channels_id_csd),\n",
    "    positions=csd_channel_positions,\n",
    "    sigma_time=1.6,\n",
    "    sigma_space=40.0,\n",
    "    padding=padding\n",
    ")"
   ]
  },
  {
   "cell_type": "markdown",
   "id": "f8db2834",
   "metadata": {},
   "source": [
    "## Save data"
   ]
  },
  {
   "cell_type": "code",
   "execution_count": null,
   "id": "aa4be4e6",
   "metadata": {},
   "outputs": [
    {
     "name": "stderr",
     "output_type": "stream",
     "text": [
      "/home/zc963/anaconda3/envs/allen/lib/python3.10/site-packages/hdmf/spec/namespace.py:590: UserWarning: Ignoring the following cached namespace(s) because another version is already loaded:\n",
      "core - cached version: 2.2.2, loaded version: 2.7.0\n",
      "The loaded extension(s) may not be compatible with the cached extension(s) in the file. Please check the extension documentation and ignore this warning if these versions are compatible.\n",
      "  self.warn_for_ignored_namespaces(ignored_namespaces)\n"
     ]
    }
   ],
   "source": [
    "# Get session cache directory\n",
    "session_dir = SessionDirectory(session_id, ecephys_structure_acronym)\n",
    "\n",
    "# Save probe info\n",
    "session_dir.save_probe_info(probe_id, central_channels, channels_id_csd, padding)\n",
    "\n",
    "# Save LFP channels info\n",
    "session_dir.save_lfp_channels(lfp_channels)\n",
    "\n",
    "# Save CSD\n",
    "session_dir.save_csd(csd_array)"
   ]
  },
  {
   "cell_type": "code",
   "execution_count": null,
   "id": "db126be4",
   "metadata": {},
   "outputs": [],
   "source": []
  }
 ],
 "metadata": {
  "kernelspec": {
   "display_name": "allen",
   "language": "python",
   "name": "python3"
  },
  "language_info": {
   "codemirror_mode": {
    "name": "ipython",
    "version": 3
   },
   "file_extension": ".py",
   "mimetype": "text/x-python",
   "name": "python",
   "nbconvert_exporter": "python",
   "pygments_lexer": "ipython3",
   "version": "3.10.19"
  }
 },
 "nbformat": 4,
 "nbformat_minor": 5
}
