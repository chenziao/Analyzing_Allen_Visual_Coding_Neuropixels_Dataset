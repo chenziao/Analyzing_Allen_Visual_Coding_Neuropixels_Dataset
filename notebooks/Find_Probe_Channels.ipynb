{
 "cells": [
  {
   "cell_type": "code",
   "execution_count": 1,
   "id": "d1062260",
   "metadata": {},
   "outputs": [],
   "source": [
    "import json\n",
    "import numpy as np\n",
    "import pandas as pd\n",
    "from matplotlib import pyplot as plt\n",
    "\n",
    "from allensdk.brain_observatory.ecephys.ecephys_project_cache import EcephysProjectCache\n",
    "\n",
    "import add_path\n",
    "from toolkit import paths\n",
    "from toolkit.allen_helpers.location import CCF_COORDS\n",
    "from toolkit.plots.plots import plot_probe_channel_positions\n",
    "from toolkit.allen_helpers.location import StructureFinder, central_channel_in_structure\n",
    "from toolkit.analysis.signal import compute_csd\n",
    "from toolkit.pipeline.data_io import SessionDirectory\n",
    "\n",
    "pd.set_option('display.max_columns', None)\n",
    "\n",
    "with open('config.json') as f:\n",
    "    config = json.load(f)"
   ]
  },
  {
   "cell_type": "markdown",
   "id": "27caa141",
   "metadata": {},
   "source": [
    "## Get session and probe"
   ]
  },
  {
   "cell_type": "code",
   "execution_count": 2,
   "id": "1c616aa0",
   "metadata": {},
   "outputs": [],
   "source": [
    "# Cache directory path, it determines where downloaded data will be stored\n",
    "# Cache directory will be created if it doesn't exist\n",
    "cache = EcephysProjectCache.from_warehouse(manifest=paths.ECEPHYS_MANIFEST_FILE)"
   ]
  },
  {
   "cell_type": "code",
   "execution_count": 3,
   "id": "56d7a30e",
   "metadata": {},
   "outputs": [],
   "source": [
    "session_id = config['session_id']\n",
    "ecephys_structure_acronym = config['ecephys_structure_acronym']"
   ]
  },
  {
   "cell_type": "code",
   "execution_count": 4,
   "id": "1d41aecf",
   "metadata": {},
   "outputs": [
    {
     "name": "stderr",
     "output_type": "stream",
     "text": [
      "c:\\Users\\ziaochen\\.conda\\envs\\neuro2\\lib\\site-packages\\hdmf\\spec\\namespace.py:583: UserWarning: Ignoring the following cached namespace(s) because another version is already loaded:\n",
      "core - cached version: 2.2.2, loaded version: 2.7.0\n",
      "The loaded extension(s) may not be compatible with the cached extension(s) in the file. Please check the extension documentation and ignore this warning if these versions are compatible.\n",
      "  self.warn_for_ignored_namespaces(ignored_namespaces)\n"
     ]
    }
   ],
   "source": [
    "# get channels in the structure\n",
    "session = cache.get_session_data(session_id)\n",
    "all_channels = session.channels\n",
    "channels = all_channels.loc[all_channels['structure_acronym'] == ecephys_structure_acronym]"
   ]
  },
  {
   "cell_type": "code",
   "execution_count": 5,
   "id": "7729458b",
   "metadata": {},
   "outputs": [],
   "source": [
    "# get probes for the session and structure (usually only one)\n",
    "probes = cache.get_probes()\n",
    "probes = probes[probes['ecephys_session_id'] == session_id]\n",
    "probes = probes.iloc[\n",
    "    [ecephys_structure_acronym in x for x in probes['ecephys_structure_acronyms']]\n",
    "]\n",
    "\n",
    "# get the probe with the most channels in the structure\n",
    "n_channels_in_probe =  [np.count_nonzero(channels['probe_id'] == i) for i in probes.index]\n",
    "probe_id = probes.index[np.argmax(n_channels_in_probe)]\n",
    "fs = probes.loc[probe_id, 'lfp_sampling_rate']"
   ]
  },
  {
   "cell_type": "code",
   "execution_count": 6,
   "id": "2519ae04",
   "metadata": {},
   "outputs": [
    {
     "name": "stdout",
     "output_type": "stream",
     "text": [
      "Number of channels: 81\n",
      "Number of missing channels in middle: 2\n",
      "Vertical range: 820 μm\n",
      "Number of rows: 42\n"
     ]
    },
    {
     "data": {
      "image/png": "[encoded data removed]",
      "text/plain": [
       "<Figure size 1600x300 with 1 Axes>"
      ]
     },
     "metadata": {},
     "output_type": "display_data"
    }
   ],
   "source": [
    "vertical_position_range = channels['probe_vertical_position'].max() - channels['probe_vertical_position'].min()\n",
    "n_missing_channels = channels['probe_channel_number'].max() - channels['probe_channel_number'].min() + 1 - len(channels)\n",
    "print(f\"Number of channels: {len(channels):d}\")\n",
    "print(f\"Number of missing channels in middle: {n_missing_channels:d}\")\n",
    "print(f\"Vertical range: {vertical_position_range:d} μm\")\n",
    "print(f\"Number of rows: {vertical_position_range // 20 + 1:d}\")\n",
    "\n",
    "plot_probe_channel_positions(channels)\n",
    "plt.show()"
   ]
  },
  {
   "cell_type": "markdown",
   "id": "51a36ce2",
   "metadata": {},
   "source": [
    "### Find LFP channels locations in structure"
   ]
  },
  {
   "cell_type": "code",
   "execution_count": 7,
   "id": "d2415e5e",
   "metadata": {},
   "outputs": [
    {
     "name": "stderr",
     "output_type": "stream",
     "text": [
      "c:\\Users\\ziaochen\\.conda\\envs\\neuro2\\lib\\site-packages\\hdmf\\spec\\namespace.py:583: UserWarning: Ignoring the following cached namespace(s) because another version is already loaded:\n",
      "core - cached version: 2.2.2, loaded version: 2.7.0\n",
      "The loaded extension(s) may not be compatible with the cached extension(s) in the file. Please check the extension documentation and ignore this warning if these versions are compatible.\n",
      "  self.warn_for_ignored_namespaces(ignored_namespaces)\n",
      "c:\\Users\\ziaochen\\.conda\\envs\\neuro2\\lib\\site-packages\\hdmf\\spec\\namespace.py:583: UserWarning: Ignoring the following cached namespace(s) because another version is already loaded:\n",
      "core - cached version: 2.2.2, loaded version: 2.7.0\n",
      "The loaded extension(s) may not be compatible with the cached extension(s) in the file. Please check the extension documentation and ignore this warning if these versions are compatible.\n",
      "  self.warn_for_ignored_namespaces(ignored_namespaces)\n",
      "c:\\Users\\ziaochen\\.conda\\envs\\neuro2\\lib\\site-packages\\hdmf\\spec\\namespace.py:583: UserWarning: Ignoring the following cached namespace(s) because another version is already loaded:\n",
      "core - cached version: 2.2.2, loaded version: 2.7.0\n",
      "The loaded extension(s) may not be compatible with the cached extension(s) in the file. Please check the extension documentation and ignore this warning if these versions are compatible.\n",
      "  self.warn_for_ignored_namespaces(ignored_namespaces)\n"
     ]
    }
   ],
   "source": [
    "# Load LFP given probe\n",
    "lfp_array = session.get_lfp(probe_id)\n",
    "lfp_array.attrs.update(fs=fs)\n",
    "\n",
    "# Ensure channels are sorted by vertical position\n",
    "channel_idx = np.argsort(all_channels.loc[lfp_array.channel, 'probe_vertical_position'])\n",
    "if not np.all(np.diff(channel_idx) == 1):\n",
    "    lfp_array = lfp_array.isel(channel=channel_idx)"
   ]
  },
  {
   "cell_type": "code",
   "execution_count": 8,
   "id": "4302d7b6",
   "metadata": {},
   "outputs": [],
   "source": [
    "# get LFP channels in the structure\n",
    "channel_idx = np.nonzero([i in channels.index for i in lfp_array.channel.values])[0]\n",
    "channel_idx_csd = np.copy(channel_idx)  # channel indices for CSD\n",
    "\n",
    "padding = [1, 1]  # replicate padding for iCSD boundaries\n",
    "if channel_idx[0] > 0:\n",
    "    padding[0] = 0  # no padding if a leading channel exists\n",
    "    channel_idx_csd = np.insert(channel_idx_csd, 0, channel_idx[0] - 1)\n",
    "if channel_idx[-1] < lfp_array.channel.size - 1:\n",
    "    padding[1] = 0  # no padding if a trailing channel exists\n",
    "    channel_idx_csd = np.append(channel_idx_csd, channel_idx[-1] + 1)\n",
    "\n",
    "csd_channel_positions = all_channels.loc[lfp_array.channel[channel_idx_csd], 'probe_vertical_position']\n",
    "\n",
    "# validate if the spacing between LFP channels is consistent\n",
    "if np.unique(np.diff(csd_channel_positions)).size != 1:\n",
    "    raise ValueError('The spacing between LFP channels is not consistent')\n",
    "\n",
    "# get LFP channels in the structure\n",
    "channels_id = lfp_array.channel[channel_idx]\n",
    "channels_id_csd = lfp_array.channel[channel_idx_csd]"
   ]
  },
  {
   "cell_type": "code",
   "execution_count": 9,
   "id": "76627d6e",
   "metadata": {},
   "outputs": [],
   "source": [
    "# Get dataframe for LFP channels in the structure and get layer of each channel\n",
    "lfp_channels = channels.loc[channels_id]\n",
    "sf = StructureFinder(paths.REFERENCE_SPACE_CACHE_DIR)\n",
    "lfp_channels['layer_acronym'], lfp_channels['inside_structure'] = \\\n",
    "    sf.get_structure_array(lfp_channels[CCF_COORDS])"
   ]
  },
  {
   "cell_type": "code",
   "execution_count": 10,
   "id": "412ce4be",
   "metadata": {},
   "outputs": [],
   "source": [
    "# Get central channels in each layer\n",
    "valid_channels = lfp_channels.loc[lfp_channels['inside_structure']]\n",
    "central_channels = central_channel_in_structure(valid_channels['layer_acronym'])\n",
    "central_channels = {s: int(valid_channels.index[i]) for s, i in central_channels.items()}"
   ]
  },
  {
   "cell_type": "code",
   "execution_count": 11,
   "id": "53d150c7",
   "metadata": {},
   "outputs": [
    {
     "name": "stderr",
     "output_type": "stream",
     "text": [
      "c:\\Users\\ziaochen\\projects\\neuroscience\\Analyzing_Allen_Visual_Coding_Neuropixels_Dataset\\notebooks\\..\\toolkit\\utils\\quantity_units.py:111: UserWarning: DataArray has no attribute 'unit', assuming unit 'V/µm²'\n",
      "  warnings.warn(f\"DataArray has no attribute 'unit', assuming unit '{as_unicode(src_unit)}'\")\n"
     ]
    }
   ],
   "source": [
    "# Select channels for CSD\n",
    "csd_array = compute_csd(\n",
    "    lfp=lfp_array.sel(channel=channels_id_csd),\n",
    "    positions=csd_channel_positions,\n",
    "    sigma_time=1.6,\n",
    "    sigma_space=40.0,\n",
    "    padding=padding\n",
    ")"
   ]
  },
  {
   "cell_type": "markdown",
   "id": "f8db2834",
   "metadata": {},
   "source": [
    "## Save data"
   ]
  },
  {
   "cell_type": "code",
   "execution_count": 12,
   "id": "aa4be4e6",
   "metadata": {},
   "outputs": [
    {
     "name": "stderr",
     "output_type": "stream",
     "text": [
      "c:\\Users\\ziaochen\\.conda\\envs\\neuro2\\lib\\site-packages\\hdmf\\spec\\namespace.py:583: UserWarning: Ignoring the following cached namespace(s) because another version is already loaded:\n",
      "core - cached version: 2.2.2, loaded version: 2.7.0\n",
      "The loaded extension(s) may not be compatible with the cached extension(s) in the file. Please check the extension documentation and ignore this warning if these versions are compatible.\n",
      "  self.warn_for_ignored_namespaces(ignored_namespaces)\n"
     ]
    }
   ],
   "source": [
    "# Get session cache directory\n",
    "session_dir = SessionDirectory(session_id, ecephys_structure_acronym)\n",
    "\n",
    "# Save LFP channels info\n",
    "session_dir.save_lfp_channels(lfp_channels)\n",
    "\n",
    "# Save probe info\n",
    "session_dir.save_probe_info(probe_id, central_channels, channels_id_csd, padding)\n",
    "\n",
    "# Save CSD\n",
    "session_dir.save_csd(csd_array)"
   ]
  },
  {
   "cell_type": "code",
   "execution_count": null,
   "id": "db126be4",
   "metadata": {},
   "outputs": [],
   "source": []
  }
 ],
 "metadata": {
  "kernelspec": {
   "display_name": "neuro2",
   "language": "python",
   "name": "python3"
  },
  "language_info": {
   "codemirror_mode": {
    "name": "ipython",
    "version": 3
   },
   "file_extension": ".py",
   "mimetype": "text/x-python",
   "name": "python",
   "nbconvert_exporter": "python",
   "pygments_lexer": "ipython3",
   "version": "3.10.18"
  }
 },
 "nbformat": 4,
 "nbformat_minor": 5
}
