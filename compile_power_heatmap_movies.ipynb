{
 "cells": [
  {
   "cell_type": "code",
   "execution_count": 1,
   "metadata": {},
   "outputs": [],
   "source": [
    "# Run python sript if enter_parameters is needed.\n",
    "# Run ipython or notebook with enter_parameters disabled if cell outputs need to be saved.\n",
    "run_from_ipython = 'get_ipython' in globals()\n",
    "# Use ipython display when running notebook. Print directly to console when running sript.\n",
    "display = display if run_from_ipython else print"
   ]
  },
  {
   "cell_type": "code",
   "execution_count": 2,
   "metadata": {},
   "outputs": [],
   "source": [
    "import os\n",
    "import json\n",
    "import numpy as np\n",
    "import pandas as pd\n",
    "import xarray as xr\n",
    "import matplotlib.pyplot as plt\n",
    "\n",
    "from plots import *\n",
    "\n",
    "if run_from_ipython:\n",
    "    %matplotlib inline\n",
    "\n",
    "with open('config.json') as f:\n",
    "    config = json.load(f)"
   ]
  },
  {
   "cell_type": "code",
   "execution_count": 3,
   "metadata": {},
   "outputs": [],
   "source": [
    "output_dir = config['output_dir']\n",
    "ecephys_structure_acronym = config['analysis_object']['ecephys_structure_acronym']"
   ]
  },
  {
   "cell_type": "code",
   "execution_count": 4,
   "metadata": {},
   "outputs": [],
   "source": [
    "stimulus_name = 'natural_movies'  # 'natural_movie_one', 'natural_movie_three'"
   ]
  },
  {
   "cell_type": "markdown",
   "metadata": {},
   "source": [
    "### Get heatmap data from session and probe"
   ]
  },
  {
   "cell_type": "code",
   "execution_count": 5,
   "metadata": {},
   "outputs": [],
   "source": [
    "session_list = set()\n",
    "for f in os.listdir(output_dir):\n",
    "    if f.startswith('session'):\n",
    "        f_strs = os.path.splitext(f)[0].split('_')\n",
    "        if len(f_strs) > 2 and f_strs[2] == ecephys_structure_acronym:\n",
    "            if os.path.isdir(os.path.join(output_dir, '_'.join(f_strs[:2]))):\n",
    "                session_list.add(int(f_strs[1]))\n",
    "session_list = list(session_list)"
   ]
  },
  {
   "cell_type": "code",
   "execution_count": 6,
   "metadata": {},
   "outputs": [],
   "source": [
    "power_ds = {}\n",
    "for session_id in session_list:\n",
    "    session_dir = os.path.join(output_dir, f'session_{session_id:d}')\n",
    "    info_file = os.path.join(output_dir, f'session_{session_id:d}_{ecephys_structure_acronym:s}.json')\n",
    "    try:\n",
    "        with open(info_file) as f:\n",
    "            info = json.load(f)\n",
    "        probe_id = info['probe_id']\n",
    "        probe_dir = os.path.join(session_dir, f'probe_{probe_id:d}')\n",
    "        heatmap_file = os.path.join(probe_dir, f'{ecephys_structure_acronym:s}_{stimulus_name:s}_power_heatmap.nc')\n",
    "        pow_ds = xr.load_dataset(heatmap_file)\n",
    "        pow_ds.load()\n",
    "    except Exception as e:\n",
    "        print(e)\n",
    "        continue\n",
    "    power_ds[session_id] = pow_ds"
   ]
  },
  {
   "cell_type": "markdown",
   "metadata": {},
   "source": [
    "### Plot heatmaps"
   ]
  },
  {
   "cell_type": "code",
   "execution_count": 7,
   "metadata": {},
   "outputs": [],
   "source": [
    "figsize = (6, 5)"
   ]
  },
  {
   "cell_type": "code",
   "execution_count": 8,
   "metadata": {},
   "outputs": [],
   "source": [
    "# for session_id, ds in power_ds.items():\n",
    "#     print(f\"Session {session_id:d}\")\n",
    "#     coords = ds.coords\n",
    "#     wave = coords['wave']\n",
    "#     n_waves = wave.size\n",
    "#     x_bins, y_bins = coords['x_edge'].values, coords['y_edge'].values\n",
    "#     fig, axs = plt.subplots(1, n_waves, figsize=(n_waves * figsize[0], figsize[1]))\n",
    "#     for i, w in enumerate(wave.values):\n",
    "#         ax = axs[i]\n",
    "#         pcm = heatmap_in_grid(ds.power.sel(wave=w).values, x_bins, y_bins,\n",
    "#             xticks_fmt=ds.attrs['xticks_fmt'], yticks_fmt=ds.attrs['yticks_fmt'],\n",
    "#             even_grid=True, ax=ax)\n",
    "#         plt.colorbar(mappable=pcm, ax=ax, label=ds.attrs['power_metric'], pad=0.02)\n",
    "#         ax.set_xlabel(ds.attrs['xlabel'])\n",
    "#         ax.set_ylabel(ds.attrs['ylabel'])\n",
    "#         ax.set_title(w)\n",
    "#     plt.tight_layout()\n",
    "# plt.show()"
   ]
  },
  {
   "cell_type": "markdown",
   "metadata": {},
   "source": [
    "### Compile data from all sessions"
   ]
  },
  {
   "cell_type": "code",
   "execution_count": 20,
   "metadata": {},
   "outputs": [
    {
     "data": {
      "image/png": "[encoded data removed]",
      "text/plain": [
       "<Figure size 864x360 with 4 Axes>"
      ]
     },
     "metadata": {
      "needs_background": "light"
     },
     "output_type": "display_data"
    }
   ],
   "source": [
    "nticks = 6\n",
    "\n",
    "avg_pow = xr.concat([ds.power for ds in power_ds.values()], dim=pd.Index(power_ds, name='session'))\n",
    "avg_pow = avg_pow.mean(dim='session').assign_attrs(next(iter(power_ds.values())).attrs)\n",
    "\n",
    "coords = avg_pow.coords\n",
    "wave = coords['wave']\n",
    "n_waves = wave.size\n",
    "n_bins = coords['x_bin'].size, coords['y_bin'].size\n",
    "x_bins = np.linspace(0., 1., n_bins[0] + 1)\n",
    "y_bins = np.linspace(0., 1., n_bins[1] + 1)\n",
    "\n",
    "fig, axs = plt.subplots(1, n_waves, figsize=(n_waves * figsize[0], figsize[1]))\n",
    "for ax, w in zip(axs, wave.values):\n",
    "    pcm = heatmap_in_grid(avg_pow.sel(wave=w).values, x_bins, y_bins,\n",
    "        xticks_fmt='{:g}', yticks_fmt='{:g}', even_grid=True, ax=ax)\n",
    "    ax.get_xaxis().set_major_locator(plt.LinearLocator(numticks=nticks))\n",
    "    ax.get_yaxis().set_major_locator(plt.LinearLocator(numticks=nticks))\n",
    "    plt.colorbar(mappable=pcm, ax=ax, label=avg_pow.attrs['power_metric'], pad=0.02)\n",
    "    ax.set_xlabel(avg_pow.attrs['xlabel'])\n",
    "    ax.set_ylabel(avg_pow.attrs['ylabel'])\n",
    "    ax.set_title(w)\n",
    "plt.tight_layout()\n",
    "plt.show()"
   ]
  },
  {
   "cell_type": "code",
   "execution_count": null,
   "metadata": {},
   "outputs": [],
   "source": []
  }
 ],
 "metadata": {
  "kernelspec": {
   "display_name": "base",
   "language": "python",
   "name": "python3"
  },
  "language_info": {
   "codemirror_mode": {
    "name": "ipython",
    "version": 3
   },
   "file_extension": ".py",
   "mimetype": "text/x-python",
   "name": "python",
   "nbconvert_exporter": "python",
   "pygments_lexer": "ipython3",
   "version": "3.9.12"
  }
 },
 "nbformat": 4,
 "nbformat_minor": 2
}
