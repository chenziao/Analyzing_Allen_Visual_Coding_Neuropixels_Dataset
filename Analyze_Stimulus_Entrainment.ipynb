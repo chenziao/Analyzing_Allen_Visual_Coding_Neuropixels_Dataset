{
 "cells": [
  {
   "cell_type": "code",
   "execution_count": 1,
   "id": "db6c0a33",
   "metadata": {},
   "outputs": [],
   "source": [
    "# Run python sript if enter_parameters is needed.\n",
    "# Run ipython or notebook with enter_parameters disabled if cell outputs need to be saved.\n",
    "run_from_ipython = 'get_ipython' in globals()\n",
    "# Use ipython display when running notebook. Print directly to console when running sript.\n",
    "display = display if run_from_ipython else print"
   ]
  },
  {
   "cell_type": "code",
   "execution_count": 2,
   "id": "90e8d125",
   "metadata": {},
   "outputs": [],
   "source": [
    "import os\n",
    "import json\n",
    "import numpy as np\n",
    "import pandas as pd\n",
    "import xarray as xr\n",
    "import matplotlib.pyplot as plt\n",
    "\n",
    "from allensdk.brain_observatory.ecephys.ecephys_project_cache import EcephysProjectCache\n",
    "\n",
    "from utils import *\n",
    "from process import *\n",
    "from analysis import *\n",
    "from plots import *\n",
    "\n",
    "if run_from_ipython:\n",
    "    %matplotlib inline\n",
    "\n",
    "with open('config.json') as f:\n",
    "    config = json.load(f)"
   ]
  },
  {
   "cell_type": "code",
   "execution_count": 3,
   "id": "94534039",
   "metadata": {},
   "outputs": [],
   "source": [
    "# Cache directory path, it determines where downloaded data will be stored\n",
    "manifest_path = os.path.join(config['cache_dir'], \"manifest.json\")\n",
    "cache = EcephysProjectCache.from_warehouse(manifest=manifest_path)\n",
    "\n",
    "# Whether to manually enter parameters for analysis\n",
    "enter_parameters = config['enter_parameters']\n",
    "whether_redo = redo_condition(enter_parameters)"
   ]
  },
  {
   "cell_type": "markdown",
   "id": "69493c75",
   "metadata": {},
   "source": [
    "## Get session and probe"
   ]
  },
  {
   "cell_type": "code",
   "execution_count": 4,
   "id": "8f6ba4c0",
   "metadata": {},
   "outputs": [],
   "source": [
    "session_id = config['analysis_object']['session_id']\n",
    "ecephys_structure_acronym = config['analysis_object']['ecephys_structure_acronym']\n",
    "session = cache.get_session_data(session_id)"
   ]
  },
  {
   "cell_type": "code",
   "execution_count": 5,
   "id": "88b9df86",
   "metadata": {},
   "outputs": [
    {
     "name": "stdout",
     "output_type": "stream",
     "text": [
      "{\n",
      "    \"session_id\": 789848216,\n",
      "    \"ecephys_structure_acronym\": \"VISp\",\n",
      "    \"probe_id\": 805002031,\n",
      "    \"center_channel_id\": 849914246,\n",
      "    \"center_unit_channel_id\": 849914262,\n",
      "    \"fs\": 1249.999853645725,\n",
      "    \"parameters\": {},\n",
      "    \"has_ccf\": true,\n",
      "    \"unit_has_ccf\": true,\n",
      "    \"channel_group_by_ccf\": true,\n",
      "    \"n_channel_groups\": 4\n",
      "}\n"
     ]
    }
   ],
   "source": [
    "output_dir = config['output_dir']\n",
    "session_dir = os.path.join(output_dir, f'session_{session_id:d}')\n",
    "info_file = os.path.join(output_dir, f'session_{session_id:d}_{ecephys_structure_acronym:s}.json')\n",
    "with open(info_file) as f:\n",
    "    info = json.load(f)\n",
    "print(json.dumps(info, indent=4))\n",
    "\n",
    "probe_id = info['probe_id']\n",
    "probe_dir = os.path.join(session_dir, f'probe_{probe_id:d}')\n",
    "preprocess_dict = info['parameters']\n",
    "parameters_dict = info['movies_pop_parameters'] = info.get('movies_pop_parameters', {})\n",
    "fig_disp = figure_display_function(config)"
   ]
  },
  {
   "cell_type": "markdown",
   "id": "529dac13",
   "metadata": {},
   "source": [
    "## Load selected units in area of interest"
   ]
  },
  {
   "cell_type": "code",
   "execution_count": 6,
   "id": "057449bf",
   "metadata": {},
   "outputs": [
    {
     "name": "stdout",
     "output_type": "stream",
     "text": [
      "Number of units in VISp: 14\n"
     ]
    }
   ],
   "source": [
    "units_file = os.path.join(output_dir, f'session_{session_id:d}_{ecephys_structure_acronym:s}_units.csv')\n",
    "sel_units = pd.read_csv(units_file, index_col='unit_id')\n",
    "sel_units_id = sel_units.index\n",
    "print(f'Number of units in {ecephys_structure_acronym:s}: {len(sel_units):d}')\n",
    "\n",
    "optotag_file = os.path.join(probe_dir, f'{ecephys_structure_acronym:s}_optotag_units.csv')\n",
    "optotag_df = pd.read_csv(optotag_file, index_col='unit_id')"
   ]
  },
  {
   "cell_type": "markdown",
   "id": "8de3728c",
   "metadata": {},
   "source": [
    "### Save data settings"
   ]
  },
  {
   "cell_type": "code",
   "execution_count": 7,
   "id": "d4da4969",
   "metadata": {},
   "outputs": [],
   "source": [
    "filepath_prefix = lambda stimulus_name: os.path.join(probe_dir, f'{ecephys_structure_acronym:s}_{stimulus_name:s}')"
   ]
  },
  {
   "cell_type": "markdown",
   "id": "dfc01959",
   "metadata": {},
   "source": [
    "## Analyze spike entrainment to LFP"
   ]
  },
  {
   "cell_type": "markdown",
   "id": "d2a98b7e",
   "metadata": {},
   "source": [
    "### Select stimuli"
   ]
  },
  {
   "cell_type": "code",
   "execution_count": 8,
   "id": "c4e368d2",
   "metadata": {},
   "outputs": [],
   "source": [
    "session_type = session.session_type\n",
    "\n",
    "# Set the combination of stimuli\n",
    "if session_type == 'brain_observatory_1.1':\n",
    "    stimulus_names = ['drifting_gratings', 'natural_movie_one', 'natural_movie_three']\n",
    "    movie_stims = ['natural_movie_one', 'natural_movie_three']\n",
    "    grating_stim = 'drifting_gratings'\n",
    "elif session_type == 'functional_connectivity':\n",
    "    stimulus_names = ['drifting_gratings_75_repeats', 'natural_movie_one_more_repeats', 'natural_movie_one_shuffled']\n",
    "    movie_stims = ['natural_movie_one_more_repeats', 'natural_movie_one_shuffled']\n",
    "    grating_stim = 'drifting_gratings_75_repeats'"
   ]
  },
  {
   "cell_type": "code",
   "execution_count": 9,
   "id": "7123099f",
   "metadata": {},
   "outputs": [],
   "source": [
    "# Select drifting gratings conditiona\n",
    "condition_names = ['orientation', 'temporal_frequency', 'contrast']\n",
    "\n",
    "if session_type == 'brain_observatory_1.1':\n",
    "    avg_except = 'temporal_frequency'\n",
    "    cond_filt = lambda x: x < 8\n",
    "elif session_type == 'functional_connectivity':\n",
    "    avg_except = 'contrast'\n",
    "    cond_filt = lambda x: x > 0.2\n",
    "\n",
    "# drifting grating conditions\n",
    "drifting_gratings_presentations, grating_ids, grating_times, grating_duration = align_gratings(\n",
    "    session.stimulus_presentations, stimulus_name=grating_stim)\n",
    "condition_id, cond_presentation_id = presentation_conditions(\n",
    "    drifting_gratings_presentations, condtion_types=condition_names)\n",
    "\n",
    "drifting_gratings_windows = [(0., 0.3), (0.3, grating_duration)]  # sec. window start times\n",
    "drifting_gratings_window_names = ['early', 'stable']"
   ]
  },
  {
   "cell_type": "markdown",
   "id": "62738e81",
   "metadata": {},
   "source": [
    "## Load LFP channels"
   ]
  },
  {
   "cell_type": "code",
   "execution_count": 10,
   "id": "4ca927f5",
   "metadata": {},
   "outputs": [
    {
     "data": {
      "text/html": [
       "<div><svg style=\"position: absolute; width: 0; height: 0; overflow: hidden\">\n",
       "<defs>\n",
       "<symbol id=\"icon-database\" viewBox=\"0 0 32 32\">\n",
       "<path d=\"M16 0c-8.837 0-16 2.239-16 5v4c0 2.761 7.163 5 16 5s16-2.239 16-5v-4c0-2.761-7.163-5-16-5z\"></path>\n",
       "<path d=\"M16 17c-8.837 0-16-2.239-16-5v6c0 2.761 7.163 5 16 5s16-2.239 16-5v-6c0 2.761-7.163 5-16 5z\"></path>\n",
       "<path d=\"M16 26c-8.837 0-16-2.239-16-5v6c0 2.761 7.163 5 16 5s16-2.239 16-5v-6c0 2.761-7.163 5-16 5z\"></path>\n",
       "</symbol>\n",
       "<symbol id=\"icon-file-text2\" viewBox=\"0 0 32 32\">\n",
       "<path d=\"M28.681 7.159c-0.694-0.947-1.662-2.053-2.724-3.116s-2.169-2.030-3.116-2.724c-1.612-1.182-2.393-1.319-2.841-1.319h-15.5c-1.378 0-2.5 1.121-2.5 2.5v27c0 1.378 1.122 2.5 2.5 2.5h23c1.378 0 2.5-1.122 2.5-2.5v-19.5c0-0.448-0.137-1.23-1.319-2.841zM24.543 5.457c0.959 0.959 1.712 1.825 2.268 2.543h-4.811v-4.811c0.718 0.556 1.584 1.309 2.543 2.268zM28 29.5c0 0.271-0.229 0.5-0.5 0.5h-23c-0.271 0-0.5-0.229-0.5-0.5v-27c0-0.271 0.229-0.5 0.5-0.5 0 0 15.499-0 15.5 0v7c0 0.552 0.448 1 1 1h7v19.5z\"></path>\n",
       "<path d=\"M23 26h-14c-0.552 0-1-0.448-1-1s0.448-1 1-1h14c0.552 0 1 0.448 1 1s-0.448 1-1 1z\"></path>\n",
       "<path d=\"M23 22h-14c-0.552 0-1-0.448-1-1s0.448-1 1-1h14c0.552 0 1 0.448 1 1s-0.448 1-1 1z\"></path>\n",
       "<path d=\"M23 18h-14c-0.552 0-1-0.448-1-1s0.448-1 1-1h14c0.552 0 1 0.448 1 1s-0.448 1-1 1z\"></path>\n",
       "</symbol>\n",
       "</defs>\n",
       "</svg>\n",
       "<style>/* CSS stylesheet for displaying xarray objects in jupyterlab.\n",
       " *\n",
       " */\n",
       "\n",
       ":root {\n",
       "  --xr-font-color0: var(--jp-content-font-color0, rgba(0, 0, 0, 1));\n",
       "  --xr-font-color2: var(--jp-content-font-color2, rgba(0, 0, 0, 0.54));\n",
       "  --xr-font-color3: var(--jp-content-font-color3, rgba(0, 0, 0, 0.38));\n",
       "  --xr-border-color: var(--jp-border-color2, #e0e0e0);\n",
       "  --xr-disabled-color: var(--jp-layout-color3, #bdbdbd);\n",
       "  --xr-background-color: var(--jp-layout-color0, white);\n",
       "  --xr-background-color-row-even: var(--jp-layout-color1, white);\n",
       "  --xr-background-color-row-odd: var(--jp-layout-color2, #eeeeee);\n",
       "}\n",
       "\n",
       "html[theme=dark],\n",
       "body[data-theme=dark],\n",
       "body.vscode-dark {\n",
       "  --xr-font-color0: rgba(255, 255, 255, 1);\n",
       "  --xr-font-color2: rgba(255, 255, 255, 0.54);\n",
       "  --xr-font-color3: rgba(255, 255, 255, 0.38);\n",
       "  --xr-border-color: #1F1F1F;\n",
       "  --xr-disabled-color: #515151;\n",
       "  --xr-background-color: #111111;\n",
       "  --xr-background-color-row-even: #111111;\n",
       "  --xr-background-color-row-odd: #313131;\n",
       "}\n",
       "\n",
       ".xr-wrap {\n",
       "  display: block !important;\n",
       "  min-width: 300px;\n",
       "  max-width: 700px;\n",
       "}\n",
       "\n",
       ".xr-text-repr-fallback {\n",
       "  /* fallback to plain text repr when CSS is not injected (untrusted notebook) */\n",
       "  display: none;\n",
       "}\n",
       "\n",
       ".xr-header {\n",
       "  padding-top: 6px;\n",
       "  padding-bottom: 6px;\n",
       "  margin-bottom: 4px;\n",
       "  border-bottom: solid 1px var(--xr-border-color);\n",
       "}\n",
       "\n",
       ".xr-header > div,\n",
       ".xr-header > ul {\n",
       "  display: inline;\n",
       "  margin-top: 0;\n",
       "  margin-bottom: 0;\n",
       "}\n",
       "\n",
       ".xr-obj-type,\n",
       ".xr-array-name {\n",
       "  margin-left: 2px;\n",
       "  margin-right: 10px;\n",
       "}\n",
       "\n",
       ".xr-obj-type {\n",
       "  color: var(--xr-font-color2);\n",
       "}\n",
       "\n",
       ".xr-sections {\n",
       "  padding-left: 0 !important;\n",
       "  display: grid;\n",
       "  grid-template-columns: 150px auto auto 1fr 20px 20px;\n",
       "}\n",
       "\n",
       ".xr-section-item {\n",
       "  display: contents;\n",
       "}\n",
       "\n",
       ".xr-section-item input {\n",
       "  display: none;\n",
       "}\n",
       "\n",
       ".xr-section-item input + label {\n",
       "  color: var(--xr-disabled-color);\n",
       "}\n",
       "\n",
       ".xr-section-item input:enabled + label {\n",
       "  cursor: pointer;\n",
       "  color: var(--xr-font-color2);\n",
       "}\n",
       "\n",
       ".xr-section-item input:enabled + label:hover {\n",
       "  color: var(--xr-font-color0);\n",
       "}\n",
       "\n",
       ".xr-section-summary {\n",
       "  grid-column: 1;\n",
       "  color: var(--xr-font-color2);\n",
       "  font-weight: 500;\n",
       "}\n",
       "\n",
       ".xr-section-summary > span {\n",
       "  display: inline-block;\n",
       "  padding-left: 0.5em;\n",
       "}\n",
       "\n",
       ".xr-section-summary-in:disabled + label {\n",
       "  color: var(--xr-font-color2);\n",
       "}\n",
       "\n",
       ".xr-section-summary-in + label:before {\n",
       "  display: inline-block;\n",
       "  content: '►';\n",
       "  font-size: 11px;\n",
       "  width: 15px;\n",
       "  text-align: center;\n",
       "}\n",
       "\n",
       ".xr-section-summary-in:disabled + label:before {\n",
       "  color: var(--xr-disabled-color);\n",
       "}\n",
       "\n",
       ".xr-section-summary-in:checked + label:before {\n",
       "  content: '▼';\n",
       "}\n",
       "\n",
       ".xr-section-summary-in:checked + label > span {\n",
       "  display: none;\n",
       "}\n",
       "\n",
       ".xr-section-summary,\n",
       ".xr-section-inline-details {\n",
       "  padding-top: 4px;\n",
       "  padding-bottom: 4px;\n",
       "}\n",
       "\n",
       ".xr-section-inline-details {\n",
       "  grid-column: 2 / -1;\n",
       "}\n",
       "\n",
       ".xr-section-details {\n",
       "  display: none;\n",
       "  grid-column: 1 / -1;\n",
       "  margin-bottom: 5px;\n",
       "}\n",
       "\n",
       ".xr-section-summary-in:checked ~ .xr-section-details {\n",
       "  display: contents;\n",
       "}\n",
       "\n",
       ".xr-array-wrap {\n",
       "  grid-column: 1 / -1;\n",
       "  display: grid;\n",
       "  grid-template-columns: 20px auto;\n",
       "}\n",
       "\n",
       ".xr-array-wrap > label {\n",
       "  grid-column: 1;\n",
       "  vertical-align: top;\n",
       "}\n",
       "\n",
       ".xr-preview {\n",
       "  color: var(--xr-font-color3);\n",
       "}\n",
       "\n",
       ".xr-array-preview,\n",
       ".xr-array-data {\n",
       "  padding: 0 5px !important;\n",
       "  grid-column: 2;\n",
       "}\n",
       "\n",
       ".xr-array-data,\n",
       ".xr-array-in:checked ~ .xr-array-preview {\n",
       "  display: none;\n",
       "}\n",
       "\n",
       ".xr-array-in:checked ~ .xr-array-data,\n",
       ".xr-array-preview {\n",
       "  display: inline-block;\n",
       "}\n",
       "\n",
       ".xr-dim-list {\n",
       "  display: inline-block !important;\n",
       "  list-style: none;\n",
       "  padding: 0 !important;\n",
       "  margin: 0;\n",
       "}\n",
       "\n",
       ".xr-dim-list li {\n",
       "  display: inline-block;\n",
       "  padding: 0;\n",
       "  margin: 0;\n",
       "}\n",
       "\n",
       ".xr-dim-list:before {\n",
       "  content: '(';\n",
       "}\n",
       "\n",
       ".xr-dim-list:after {\n",
       "  content: ')';\n",
       "}\n",
       "\n",
       ".xr-dim-list li:not(:last-child):after {\n",
       "  content: ',';\n",
       "  padding-right: 5px;\n",
       "}\n",
       "\n",
       ".xr-has-index {\n",
       "  font-weight: bold;\n",
       "}\n",
       "\n",
       ".xr-var-list,\n",
       ".xr-var-item {\n",
       "  display: contents;\n",
       "}\n",
       "\n",
       ".xr-var-item > div,\n",
       ".xr-var-item label,\n",
       ".xr-var-item > .xr-var-name span {\n",
       "  background-color: var(--xr-background-color-row-even);\n",
       "  margin-bottom: 0;\n",
       "}\n",
       "\n",
       ".xr-var-item > .xr-var-name:hover span {\n",
       "  padding-right: 5px;\n",
       "}\n",
       "\n",
       ".xr-var-list > li:nth-child(odd) > div,\n",
       ".xr-var-list > li:nth-child(odd) > label,\n",
       ".xr-var-list > li:nth-child(odd) > .xr-var-name span {\n",
       "  background-color: var(--xr-background-color-row-odd);\n",
       "}\n",
       "\n",
       ".xr-var-name {\n",
       "  grid-column: 1;\n",
       "}\n",
       "\n",
       ".xr-var-dims {\n",
       "  grid-column: 2;\n",
       "}\n",
       "\n",
       ".xr-var-dtype {\n",
       "  grid-column: 3;\n",
       "  text-align: right;\n",
       "  color: var(--xr-font-color2);\n",
       "}\n",
       "\n",
       ".xr-var-preview {\n",
       "  grid-column: 4;\n",
       "}\n",
       "\n",
       ".xr-index-preview {\n",
       "  grid-column: 2 / 5;\n",
       "  color: var(--xr-font-color2);\n",
       "}\n",
       "\n",
       ".xr-var-name,\n",
       ".xr-var-dims,\n",
       ".xr-var-dtype,\n",
       ".xr-preview,\n",
       ".xr-attrs dt {\n",
       "  white-space: nowrap;\n",
       "  overflow: hidden;\n",
       "  text-overflow: ellipsis;\n",
       "  padding-right: 10px;\n",
       "}\n",
       "\n",
       ".xr-var-name:hover,\n",
       ".xr-var-dims:hover,\n",
       ".xr-var-dtype:hover,\n",
       ".xr-attrs dt:hover {\n",
       "  overflow: visible;\n",
       "  width: auto;\n",
       "  z-index: 1;\n",
       "}\n",
       "\n",
       ".xr-var-attrs,\n",
       ".xr-var-data,\n",
       ".xr-index-data {\n",
       "  display: none;\n",
       "  background-color: var(--xr-background-color) !important;\n",
       "  padding-bottom: 5px !important;\n",
       "}\n",
       "\n",
       ".xr-var-attrs-in:checked ~ .xr-var-attrs,\n",
       ".xr-var-data-in:checked ~ .xr-var-data,\n",
       ".xr-index-data-in:checked ~ .xr-index-data {\n",
       "  display: block;\n",
       "}\n",
       "\n",
       ".xr-var-data > table {\n",
       "  float: right;\n",
       "}\n",
       "\n",
       ".xr-var-name span,\n",
       ".xr-var-data,\n",
       ".xr-index-name div,\n",
       ".xr-index-data,\n",
       ".xr-attrs {\n",
       "  padding-left: 25px !important;\n",
       "}\n",
       "\n",
       ".xr-attrs,\n",
       ".xr-var-attrs,\n",
       ".xr-var-data,\n",
       ".xr-index-data {\n",
       "  grid-column: 1 / -1;\n",
       "}\n",
       "\n",
       "dl.xr-attrs {\n",
       "  padding: 0;\n",
       "  margin: 0;\n",
       "  display: grid;\n",
       "  grid-template-columns: 125px auto;\n",
       "}\n",
       "\n",
       ".xr-attrs dt,\n",
       ".xr-attrs dd {\n",
       "  padding: 0;\n",
       "  margin: 0;\n",
       "  float: left;\n",
       "  padding-right: 10px;\n",
       "  width: auto;\n",
       "}\n",
       "\n",
       ".xr-attrs dt {\n",
       "  font-weight: normal;\n",
       "  grid-column: 1;\n",
       "}\n",
       "\n",
       ".xr-attrs dt:hover span {\n",
       "  display: inline-block;\n",
       "  background: var(--xr-background-color);\n",
       "  padding-right: 10px;\n",
       "}\n",
       "\n",
       ".xr-attrs dd {\n",
       "  grid-column: 2;\n",
       "  white-space: pre-wrap;\n",
       "  word-break: break-all;\n",
       "}\n",
       "\n",
       ".xr-icon-database,\n",
       ".xr-icon-file-text2,\n",
       ".xr-no-icon {\n",
       "  display: inline-block;\n",
       "  vertical-align: middle;\n",
       "  width: 1em;\n",
       "  height: 1.5em !important;\n",
       "  stroke-width: 0;\n",
       "  stroke: currentColor;\n",
       "  fill: currentColor;\n",
       "}\n",
       "</style><pre class='xr-text-repr-fallback'>&lt;xarray.Dataset&gt;\n",
       "Dimensions:  (time: 12406020, channel: 4)\n",
       "Coordinates:\n",
       "  * time     (time) float64 3.69 3.69 3.691 ... 9.929e+03 9.929e+03 9.929e+03\n",
       "  * channel  (channel) int32 0 1 2 3\n",
       "Data variables:\n",
       "    LFP      (channel, time) float32 -5.2e-06 6.598e-06 ... 1.462e-05 9.967e-07\n",
       "Attributes:\n",
       "    fs:       1249.999853645725</pre><div class='xr-wrap' style='display:none'><div class='xr-header'><div class='xr-obj-type'>xarray.Dataset</div></div><ul class='xr-sections'><li class='xr-section-item'><input id='section-9f0efbfd-f137-4b2b-bd7a-3d34d11f4475' class='xr-section-summary-in' type='checkbox' disabled ><label for='section-9f0efbfd-f137-4b2b-bd7a-3d34d11f4475' class='xr-section-summary'  title='Expand/collapse section'>Dimensions:</label><div class='xr-section-inline-details'><ul class='xr-dim-list'><li><span class='xr-has-index'>time</span>: 12406020</li><li><span class='xr-has-index'>channel</span>: 4</li></ul></div><div class='xr-section-details'></div></li><li class='xr-section-item'><input id='section-5fee7db4-f982-40a8-981e-bf254b7cfe10' class='xr-section-summary-in' type='checkbox'  checked><label for='section-5fee7db4-f982-40a8-981e-bf254b7cfe10' class='xr-section-summary' >Coordinates: <span>(2)</span></label><div class='xr-section-inline-details'></div><div class='xr-section-details'><ul class='xr-var-list'><li class='xr-var-item'><div class='xr-var-name'><span class='xr-has-index'>time</span></div><div class='xr-var-dims'>(time)</div><div class='xr-var-dtype'>float64</div><div class='xr-var-preview xr-preview'>3.69 3.69 ... 9.929e+03 9.929e+03</div><input id='attrs-c0f56500-06f7-4770-8905-605888ff9ab9' class='xr-var-attrs-in' type='checkbox' disabled><label for='attrs-c0f56500-06f7-4770-8905-605888ff9ab9' title='Show/Hide attributes'><svg class='icon xr-icon-file-text2'><use xlink:href='#icon-file-text2'></use></svg></label><input id='data-23f2fc4c-90ed-4df1-a18a-484afbc821c5' class='xr-var-data-in' type='checkbox'><label for='data-23f2fc4c-90ed-4df1-a18a-484afbc821c5' title='Show/Hide data repr'><svg class='icon xr-icon-database'><use xlink:href='#icon-database'></use></svg></label><div class='xr-var-attrs'><dl class='xr-attrs'></dl></div><div class='xr-var-data'><pre>array([3.689506e+00, 3.690306e+00, 3.691106e+00, ..., 9.928504e+03,\n",
       "       9.928505e+03, 9.928506e+03])</pre></div></li><li class='xr-var-item'><div class='xr-var-name'><span class='xr-has-index'>channel</span></div><div class='xr-var-dims'>(channel)</div><div class='xr-var-dtype'>int32</div><div class='xr-var-preview xr-preview'>0 1 2 3</div><input id='attrs-841a8f9c-bdcc-45dd-bba8-092c7e90543a' class='xr-var-attrs-in' type='checkbox' disabled><label for='attrs-841a8f9c-bdcc-45dd-bba8-092c7e90543a' title='Show/Hide attributes'><svg class='icon xr-icon-file-text2'><use xlink:href='#icon-file-text2'></use></svg></label><input id='data-24247e39-1fa4-47ca-9bac-07b7b386f8ca' class='xr-var-data-in' type='checkbox'><label for='data-24247e39-1fa4-47ca-9bac-07b7b386f8ca' title='Show/Hide data repr'><svg class='icon xr-icon-database'><use xlink:href='#icon-database'></use></svg></label><div class='xr-var-attrs'><dl class='xr-attrs'></dl></div><div class='xr-var-data'><pre>array([0, 1, 2, 3])</pre></div></li></ul></div></li><li class='xr-section-item'><input id='section-0ddf30fe-44b6-4cea-8464-0fc9863051a3' class='xr-section-summary-in' type='checkbox'  checked><label for='section-0ddf30fe-44b6-4cea-8464-0fc9863051a3' class='xr-section-summary' >Data variables: <span>(1)</span></label><div class='xr-section-inline-details'></div><div class='xr-section-details'><ul class='xr-var-list'><li class='xr-var-item'><div class='xr-var-name'><span>LFP</span></div><div class='xr-var-dims'>(channel, time)</div><div class='xr-var-dtype'>float32</div><div class='xr-var-preview xr-preview'>-5.2e-06 6.598e-06 ... 9.967e-07</div><input id='attrs-2f0b4a90-f105-4421-a006-74aa063a56e4' class='xr-var-attrs-in' type='checkbox' disabled><label for='attrs-2f0b4a90-f105-4421-a006-74aa063a56e4' title='Show/Hide attributes'><svg class='icon xr-icon-file-text2'><use xlink:href='#icon-file-text2'></use></svg></label><input id='data-d204e041-c493-4039-af55-63e5404c4a43' class='xr-var-data-in' type='checkbox'><label for='data-d204e041-c493-4039-af55-63e5404c4a43' title='Show/Hide data repr'><svg class='icon xr-icon-database'><use xlink:href='#icon-database'></use></svg></label><div class='xr-var-attrs'><dl class='xr-attrs'></dl></div><div class='xr-var-data'><pre>array([[-5.20000003e-06,  6.59750003e-06,  2.20999982e-06, ...,\n",
       "        -5.94750099e-06,  7.57250018e-06,  5.52500126e-07],\n",
       "       [-2.99742860e-05, -2.95564296e-05, -2.60185716e-05, ...,\n",
       "        -1.81628566e-05,  2.14500005e-06,  6.12857150e-07],\n",
       "       [-1.57392842e-05, -5.37642836e-06, -9.41571398e-06, ...,\n",
       "        -3.48214348e-06,  1.96671426e-05,  6.90857132e-06],\n",
       "       [ 1.42133322e-05,  2.90549979e-05,  2.79066662e-05, ...,\n",
       "        -2.94666643e-06,  1.46249995e-05,  9.96666586e-07]], dtype=float32)</pre></div></li></ul></div></li><li class='xr-section-item'><input id='section-e34c0cf2-bdb8-4e0f-b675-4dfac1908008' class='xr-section-summary-in' type='checkbox'  ><label for='section-e34c0cf2-bdb8-4e0f-b675-4dfac1908008' class='xr-section-summary' >Indexes: <span>(2)</span></label><div class='xr-section-inline-details'></div><div class='xr-section-details'><ul class='xr-var-list'><li class='xr-var-item'><div class='xr-index-name'><div>time</div></div><div class='xr-index-preview'>PandasIndex</div><div></div><input id='index-949a0977-5447-4979-a62e-e3f1f2e02a89' class='xr-index-data-in' type='checkbox'/><label for='index-949a0977-5447-4979-a62e-e3f1f2e02a89' title='Show/Hide index repr'><svg class='icon xr-icon-database'><use xlink:href='#icon-database'></use></svg></label><div class='xr-index-data'><pre>PandasIndex(Float64Index([  3.68950636165577, 3.6903063617494367, 3.6911063618431035,\n",
       "              3.6919063619367702,  3.692706362030437, 3.6935063621241038,\n",
       "              3.6943063622177705, 3.6951063623114373,  3.695906362405104,\n",
       "               3.696706362498771,\n",
       "              ...\n",
       "               9928.498668392238,  9928.499468392332,  9928.500268392427,\n",
       "                9928.50106839252,  9928.501868392614,  9928.502668392706,\n",
       "                 9928.5034683928,  9928.504268392895,  9928.505068392988,\n",
       "               9928.505868393082],\n",
       "             dtype=&#x27;float64&#x27;, name=&#x27;time&#x27;, length=12406020))</pre></div></li><li class='xr-var-item'><div class='xr-index-name'><div>channel</div></div><div class='xr-index-preview'>PandasIndex</div><div></div><input id='index-1b31ef73-de22-4a62-b942-4e82071fabd3' class='xr-index-data-in' type='checkbox'/><label for='index-1b31ef73-de22-4a62-b942-4e82071fabd3' title='Show/Hide index repr'><svg class='icon xr-icon-database'><use xlink:href='#icon-database'></use></svg></label><div class='xr-index-data'><pre>PandasIndex(Int64Index([0, 1, 2, 3], dtype=&#x27;int64&#x27;, name=&#x27;channel&#x27;))</pre></div></li></ul></div></li><li class='xr-section-item'><input id='section-e70d2ab1-c1e5-4d59-aa91-3fd50fb5184b' class='xr-section-summary-in' type='checkbox'  checked><label for='section-e70d2ab1-c1e5-4d59-aa91-3fd50fb5184b' class='xr-section-summary' >Attributes: <span>(1)</span></label><div class='xr-section-inline-details'></div><div class='xr-section-details'><dl class='xr-attrs'><dt><span>fs :</span></dt><dd>1249.999853645725</dd></dl></div></li></ul></div></div>"
      ],
      "text/plain": [
       "<xarray.Dataset>\n",
       "Dimensions:  (time: 12406020, channel: 4)\n",
       "Coordinates:\n",
       "  * time     (time) float64 3.69 3.69 3.691 ... 9.929e+03 9.929e+03 9.929e+03\n",
       "  * channel  (channel) int32 0 1 2 3\n",
       "Data variables:\n",
       "    LFP      (channel, time) float32 -5.2e-06 6.598e-06 ... 1.462e-05 9.967e-07\n",
       "Attributes:\n",
       "    fs:       1249.999853645725"
      ]
     },
     "metadata": {},
     "output_type": "display_data"
    }
   ],
   "source": [
    "filepath = os.path.join(probe_dir, f'{ecephys_structure_acronym:s}_lfp_channel_groups.nc')\n",
    "with xr.open_dataset(filepath) as f:\n",
    "    lfp_array = f.load()\n",
    "lfp_array = lfp_array.assign_attrs(fs=info['fs']).rename(group_id='channel')\n",
    "display(lfp_array)"
   ]
  },
  {
   "cell_type": "code",
   "execution_count": 11,
   "id": "0188d181",
   "metadata": {},
   "outputs": [
    {
     "name": "stdout",
     "output_type": "stream",
     "text": [
      "Channel group: 2\n"
     ]
    }
   ],
   "source": [
    "channel_id = info['center_unit_channel_id']\n",
    "channel_group_map = pd.read_csv(filepath.replace('.nc', '.csv'), index_col='id')\n",
    "unit_channel = pd.Series(channel_group_map.loc[sel_units['peak_channel_id'], 'group_id'].values,\n",
    "                         index=sel_units_id, name='channel_group_id')\n",
    "group_id = channel_group_map.loc[channel_id, 'group_id']\n",
    "# group_id = unit_channel.mode().item()\n",
    "\n",
    "print(f\"Channel group: {group_id:d}\")"
   ]
  },
  {
   "cell_type": "code",
   "execution_count": 12,
   "id": "898151e2",
   "metadata": {},
   "outputs": [],
   "source": [
    "def get_unit_channel_group_sorted(sel_units, channel_group_map):\n",
    "    # ccf coordinates of units and channels\n",
    "    ccf_coords = ['anterior_posterior_ccf_coordinate', 'dorsal_ventral_ccf_coordinate', 'left_right_ccf_coordinate']\n",
    "    unit_ccf = sel_units[ccf_coords].values[:, None]\n",
    "    channel_group_ccf = channel_group_map[ccf_coords].values\n",
    "\n",
    "    # sort distance between units and channels\n",
    "    unit_channel_group_dist = np.linalg.norm(unit_ccf - channel_group_ccf, axis=-1)\n",
    "    unit_channel_order = np.argsort(unit_channel_group_dist, axis=-1)\n",
    "    unit_channel_group_dist = np.take_along_axis(unit_channel_group_dist, unit_channel_order, axis=-1)\n",
    "\n",
    "    # channel group sorted by distance for each unit\n",
    "    unit_channels_sorted = channel_group_map['group_id'].values[unit_channel_order]  # all channels sorted for each unit\n",
    "    channel_idx = np.array([np.sort(np.unique(g, return_index=True)[1]) for g in unit_channels_sorted])\n",
    "    unit_channel_sorted = np.take_along_axis(unit_channels_sorted, channel_idx, axis=-1)  # channel group sorted\n",
    "    unit_channel_sorted = xr.DataArray(unit_channel_sorted, coords=dict(unit_id=sel_units_id, sorted_channel=range(unit_channel_sorted.shape[1])))\n",
    "    unit_channel_dist = np.take_along_axis(unit_channel_group_dist, channel_idx, axis=-1)\n",
    "    unit_channel_dist = unit_channel_sorted.copy(data=unit_channel_dist)\n",
    "    return unit_channel_sorted, unit_channel_dist\n",
    "\n",
    "unit_channels, unit_channel_dist = get_unit_channel_group_sorted(sel_units, channel_group_map)"
   ]
  },
  {
   "cell_type": "code",
   "execution_count": 13,
   "id": "d158cd04",
   "metadata": {},
   "outputs": [
    {
     "name": "stdout",
     "output_type": "stream",
     "text": [
      "Enter parameters:\n"
     ]
    }
   ],
   "source": [
    "extend_time = 0.5  # extend time window for filter edge effect\n",
    "beta_band = [20., 40.]\n",
    "gamma_band = [40., 70.]\n",
    "extend_time, beta_band, gamma_band = get_parameters({\n",
    "        'extend_time': extend_time,\n",
    "        'beta_band': beta_band,\n",
    "        'gamma_band': gamma_band\n",
    "    }, parameters_dict, enter_parameters)\n",
    "\n",
    "freq_band = dict(beta=beta_band, gamma=gamma_band)\n",
    "waves = list(freq_band)\n",
    "n_waves = len(waves)\n",
    "colors = {'beta': 'b', 'gamma': 'r'}"
   ]
  },
  {
   "cell_type": "code",
   "execution_count": 14,
   "id": "894942fa",
   "metadata": {},
   "outputs": [],
   "source": [
    "spike_phases = {}\n",
    "for stim in stimulus_names:\n",
    "    spike_phase_file = filepath_prefix(stim) + '_spkie_phase.nc'\n",
    "    if os.path.isfile(spike_phase_file):\n",
    "        spike_phase = xr.load_dataset(spike_phase_file)\n",
    "        overwrite = not np.all([np.allclose(spike_phase.filt_band.sel(wave=w), freq_band[w]) for w in waves])\n",
    "        # recover complex values\n",
    "        spike_phase = spike_phase.assign(resultant_phase=spike_phase.resultant_phase_real + \\\n",
    "            1j * spike_phase.resultant_phase_imag).drop_vars(['resultant_phase_real', 'resultant_phase_imag'])\n",
    "    else:\n",
    "        overwrite = True\n",
    "    if overwrite:\n",
    "        if stim in movie_stims:\n",
    "            _, presentations_ids, presentations_times, trial_duration = align_movie(\n",
    "                session.stimulus_presentations, stimulus_name=stim)\n",
    "            time_windows = [(0., trial_duration)]\n",
    "            window_names = ['all']\n",
    "        else:\n",
    "            presentations_ids, presentations_times, trial_duration = grating_ids, grating_times, grating_duration\n",
    "            time_windows = drifting_gratings_windows\n",
    "            window_names = drifting_gratings_window_names\n",
    "        aligned_lfp = align_trials(lfp_array, presentations_ids, presentations_times, window=(0. - extend_time, trial_duration + extend_time))\n",
    "        aligned_lfp = aligned_lfp.assign_attrs(extend_time=extend_time)\n",
    "        window_da = xr.DataArray(time_windows, coords=dict(window=window_names, edge=['start', 'end']))\n",
    "\n",
    "        # get spike times\n",
    "        spike_times = session.presentationwise_spike_times(stimulus_presentation_ids=presentations_ids, unit_ids=sel_units_id)\n",
    "\n",
    "        # get spike phase\n",
    "        spike_phase = []\n",
    "        for w in waves:\n",
    "            filt_ds = bandpass_lfp(aligned_lfp, freq_band[w], output='sos', include_analytic=True)\n",
    "            spk_pha_win = []\n",
    "            for win in time_windows:\n",
    "                spk_pha_win.append(get_spike_phase(spike_times, filt_ds, unit_channel, time_window=win))\n",
    "            spk_pha_win = xr.concat(spk_pha_win, dim='presentation_id')\n",
    "            spk_pha_win = spk_pha_win.assign_coords(presentation_id=range(spk_pha_win.presentation_id.size))\n",
    "            spike_phase.append(spk_pha_win)\n",
    "        spike_phase = xr.concat(spike_phase, dim=pd.Index(waves, name='wave'))  # (wave, unit_id, (window, presentation))\n",
    "        presentation_ids = xr.DataArray(np.reshape(spike_phase.presentation_id.values,\n",
    "            (len(window_names), aligned_lfp.presentation_id.size)),\n",
    "            coords=dict(window=window_names, presentation=aligned_lfp.presentation_id.values))\n",
    "\n",
    "        # record presentation ids, windows, and filter band\n",
    "        spike_phase = spike_phase.assign(presentation_ids=presentation_ids, windows=window_da)\n",
    "        spike_phase = spike_phase.assign(filt_band=xr.DataArray([freq_band[w] for w in waves],\n",
    "            coords=dict(wave=waves, cutoff=['lower', 'upper'])))\n",
    "\n",
    "        # convert resultant phase to real and imaginary parts to be saved in netcdf\n",
    "        resultant_phase = spike_phase.resultant_phase\n",
    "        spike_phase_netcdf = spike_phase.assign(resultant_phase_real=resultant_phase.real,\n",
    "            resultant_phase_imag=resultant_phase.imag).drop_vars('resultant_phase')\n",
    "        spike_phase_netcdf.to_netcdf(spike_phase_file)\n",
    "\n",
    "    spike_phases[stim] = spike_phase"
   ]
  },
  {
   "cell_type": "markdown",
   "id": "5f1114f6",
   "metadata": {},
   "source": [
    "## Calculate entrainment of tagged units"
   ]
  },
  {
   "cell_type": "code",
   "execution_count": 15,
   "id": "ab5ac5c1",
   "metadata": {},
   "outputs": [
    {
     "name": "stdout",
     "output_type": "stream",
     "text": [
      "Genotype: Sst\n"
     ]
    }
   ],
   "source": [
    "genotype = session.full_genotype\n",
    "genotype = genotype.split('/', 1)[0].split('-', 1)[0]\n",
    "print(f\"Genotype: {genotype:s}\")"
   ]
  },
  {
   "cell_type": "markdown",
   "id": "c2ed1ba9",
   "metadata": {},
   "source": [
    "### Choose thresholds for detecting tagged units"
   ]
  },
  {
   "cell_type": "code",
   "execution_count": 16,
   "id": "454a08ed",
   "metadata": {},
   "outputs": [],
   "source": [
    "ttest_alpha = 0.05  # alpha for t-tes\n",
    "evoked_ratio_threshold = None  # threshold for ratio of evoked to baseline\n",
    "spike_width_threshold = None if genotype == 'Sst' else 0.5  # ms. Spike width lower than this are PV\n",
    "\n",
    "figsize = (3.6, 3)"
   ]
  },
  {
   "cell_type": "code",
   "execution_count": 17,
   "id": "598c4a59",
   "metadata": {},
   "outputs": [
    {
     "name": "stdout",
     "output_type": "stream",
     "text": [
      "Number of positive units: 4\n"
     ]
    },
    {
     "data": {
      "image/png": "[encoded data removed]",
      "text/plain": [
       "<Figure size 360x300 with 1 Axes>"
      ]
     },
     "metadata": {},
     "output_type": "display_data"
    }
   ],
   "source": [
    "optotag_df, positive_units = detect_optotag(optotag_df, ttest_alpha=ttest_alpha,\n",
    "    evoked_ratio_threshold=evoked_ratio_threshold, spike_width_threshold=spike_width_threshold)\n",
    "\n",
    "print(f\"Number of positive units: {positive_units.size:d}\")\n",
    "\n",
    "_, ax = plt.subplots(1, 1, figsize=figsize)\n",
    "plot_optotag_units(optotag_df, ttest_alpha=ttest_alpha,\n",
    "    evoked_ratio_threshold=evoked_ratio_threshold, spike_width_threshold=spike_width_threshold, ax=ax)\n",
    "\n",
    "plt.show()"
   ]
  },
  {
   "cell_type": "markdown",
   "id": "5ed80544",
   "metadata": {},
   "source": [
    "## Plot PPC"
   ]
  },
  {
   "cell_type": "code",
   "execution_count": 18,
   "id": "76eb7eea",
   "metadata": {},
   "outputs": [],
   "source": [
    "ppc_all = {}\n",
    "ppc_windows = {}\n",
    "for stim, spike_phase in spike_phases.items():\n",
    "    ppc_all[stim] = phase_locking_value(spike_phase, unit_ids=positive_units, presentation_ids=None, unbiased=True)\n",
    "    if spike_phase.window.size > 1:\n",
    "        ppc_windows[stim] = {}\n",
    "        for win in spike_phase.window.values:\n",
    "            presentation_ids = spike_phase.presentation_ids.sel(window=win)\n",
    "            ppc_windows[stim][win] = phase_locking_value(spike_phase,\n",
    "                unit_ids=positive_units, presentation_ids=presentation_ids.values, unbiased=True)"
   ]
  },
  {
   "cell_type": "code",
   "execution_count": 19,
   "id": "faf25d74",
   "metadata": {},
   "outputs": [
    {
     "data": {
      "image/png": "[encoded data removed]",
      "text/plain": [
       "<Figure size 360x300 with 1 Axes>"
      ]
     },
     "metadata": {},
     "output_type": "display_data"
    },
    {
     "data": {
      "image/png": "[encoded data removed]",
      "text/plain": [
       "<Figure size 360x300 with 1 Axes>"
      ]
     },
     "metadata": {},
     "output_type": "display_data"
    },
    {
     "data": {
      "image/png": "[encoded data removed]",
      "text/plain": [
       "<Figure size 360x300 with 1 Axes>"
      ]
     },
     "metadata": {},
     "output_type": "display_data"
    }
   ],
   "source": [
    "for stim, ppc in ppc_all.items():\n",
    "    ppc_waves = []\n",
    "    for w in waves:\n",
    "        p = ppc.sel(wave=w)\n",
    "        ppc_waves.append([p.mean_firing_rate, p.PPC])\n",
    "    ppc_waves = np.array(ppc_waves)  # (wave, xy, units)\n",
    "\n",
    "    _, ax = plt.subplots(1, 1, figsize=figsize)\n",
    "    for cu in ppc_waves.swapaxes(0, -1):  # (units, xy, wave)\n",
    "        ax.plot(*cu, color='gray', alpha=0.5)  # connect same unit\n",
    "    for i, w in enumerate(waves):\n",
    "        ax.plot(*ppc_waves[i], 'o', color=colors[w],\n",
    "                markerfacecolor='none', label=w)\n",
    "    ax.set_xlabel(\"Mean Firing Rate (Hz)\")\n",
    "    ax.set_ylabel(\"PPC\")\n",
    "    ax.set_title(f'{stim:s} all')\n",
    "    ax.legend(loc='upper right', framealpha=0.2)\n",
    "    plt.show()"
   ]
  },
  {
   "cell_type": "code",
   "execution_count": 20,
   "id": "949bd71a",
   "metadata": {},
   "outputs": [
    {
     "data": {
      "image/png": "[encoded data removed]",
      "text/plain": [
       "<Figure size 720x300 with 2 Axes>"
      ]
     },
     "metadata": {},
     "output_type": "display_data"
    }
   ],
   "source": [
    "win_markers = ['o', '^']\n",
    "\n",
    "for stim, ppc_win in ppc_windows.items():\n",
    "    ppc_wins = []\n",
    "    for win, ppc in ppc_win.items():\n",
    "        ppc_waves = []\n",
    "        for w in waves:\n",
    "            p = ppc.sel(wave=w)\n",
    "            ppc_waves.append([p.mean_firing_rate, p.PPC])\n",
    "        ppc_wins.append(ppc_waves)\n",
    "    ppc_wins = np.array(ppc_wins).swapaxes(0, 1)  # (wave, windows, xy, units)\n",
    "\n",
    "    fig, axs = plt.subplots(1, n_waves, figsize=(n_waves * figsize[0], figsize[1]))\n",
    "    for i, w in enumerate(waves):\n",
    "        ax = axs[i]\n",
    "        for cu in ppc_wins[i].swapaxes(0, -1):  # (units, xy, windows)\n",
    "            ax.plot(*cu, color='gray', alpha=0.5)  # connect same unit\n",
    "        for j, win in enumerate(ppc_win):\n",
    "            ax.plot(*ppc_wins[i, j], linestyle='none', marker=win_markers[j],\n",
    "                    color=colors[w], markerfacecolor='none', label=f'{win:s}')\n",
    "        ax.set_xlabel(\"Mean Firing Rate (Hz)\")\n",
    "        ax.set_ylabel(\"PPC\")\n",
    "        ax.set_title(w)\n",
    "        ax.legend(loc='upper right', framealpha=0.2)\n",
    "    fig.suptitle(stim)\n",
    "    plt.show()"
   ]
  },
  {
   "cell_type": "markdown",
   "id": "b356a73a",
   "metadata": {},
   "source": [
    "## List average PPC"
   ]
  },
  {
   "cell_type": "code",
   "execution_count": 21,
   "id": "162b6407",
   "metadata": {},
   "outputs": [
    {
     "name": "stdout",
     "output_type": "stream",
     "text": [
      "                                     mean firing rate  PPC beta  PPC gamma\n",
      "stimulus duration                                                         \n",
      "drifting_gratings_75_repeats all                 40.4    0.0129    0.00114\n",
      "drifting_gratings_75_repeats early               12.6     0.023   0.000442\n",
      "drifting_gratings_75_repeats stable              68.2     0.011    0.00143\n",
      "natural_movie_one_more_repeats all             0.0151     0.197     0.0392\n",
      "natural_movie_one_shuffled all                 0.0133         0     0.0249\n"
     ]
    }
   ],
   "source": [
    "stim_windows = []\n",
    "variables = ['mean firing rate'] + ['PPC ' + w for w in waves]\n",
    "ppc_df = {v: [] for v in variables}\n",
    "for stim, ppc in ppc_all.items():\n",
    "    ppcs = []\n",
    "    stim_windows.append(f'{stim:s} all')\n",
    "    ppcs.append(ppc)\n",
    "    if stim in ppc_windows:\n",
    "        for win, ppc in ppc_windows[stim].items():\n",
    "            stim_windows.append(f'{stim:s} {win:s}')\n",
    "            ppcs.append(ppc)\n",
    "    for ppc in ppcs:\n",
    "        ppc_df['mean firing rate'].append(ppc.mean_firing_rate.mean().item())\n",
    "        for w in waves:\n",
    "            ppc_df['PPC ' + w].append(ppc.sel(wave=w).PPC.mean().item())\n",
    "\n",
    "ppc_df = pd.DataFrame(ppc_df, index=stim_windows)\n",
    "ppc_df.index.name = 'stimulus duration'\n",
    "\n",
    "with pd.option_context('display.float_format', '{:.3g}'.format):\n",
    "    print(ppc_df)"
   ]
  },
  {
   "cell_type": "markdown",
   "id": "27d72e50",
   "metadata": {},
   "source": [
    "#### Save results table"
   ]
  },
  {
   "cell_type": "code",
   "execution_count": null,
   "id": "edfb6e7e",
   "metadata": {},
   "outputs": [],
   "source": [
    "ppc_file = os.path.join(probe_dir, f'{ecephys_structure_acronym:s}_opto_tagged_ppc.csv')\n",
    "ppc_df.to_csv(ppc_file)"
   ]
  },
  {
   "cell_type": "code",
   "execution_count": null,
   "id": "8a4e81ee",
   "metadata": {},
   "outputs": [],
   "source": []
  }
 ],
 "metadata": {
  "kernelspec": {
   "display_name": "neuro",
   "language": "python",
   "name": "python3"
  },
  "language_info": {
   "codemirror_mode": {
    "name": "ipython",
    "version": 3
   },
   "file_extension": ".py",
   "mimetype": "text/x-python",
   "name": "python",
   "nbconvert_exporter": "python",
   "pygments_lexer": "ipython3",
   "version": "3.8.16"
  }
 },
 "nbformat": 4,
 "nbformat_minor": 5
}
